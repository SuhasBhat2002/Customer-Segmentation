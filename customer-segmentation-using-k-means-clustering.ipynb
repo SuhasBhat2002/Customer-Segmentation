{
 "cells": [
  {
   "cell_type": "markdown",
   "id": "a5056862",
   "metadata": {
    "papermill": {
     "duration": 0.008308,
     "end_time": "2025-05-07T08:19:50.191873",
     "exception": false,
     "start_time": "2025-05-07T08:19:50.183565",
     "status": "completed"
    },
    "tags": []
   },
   "source": [
    "### Customer segmentation using KMeans"
   ]
  },
  {
   "cell_type": "code",
   "execution_count": 1,
   "id": "2f320ee6",
   "metadata": {
    "_cell_guid": "b1076dfc-b9ad-4769-8c92-a6c4dae69d19",
    "_uuid": "8f2839f25d086af736a60e9eeb907d3b93b6e0e5",
    "execution": {
     "iopub.execute_input": "2025-05-07T08:19:50.207538Z",
     "iopub.status.busy": "2025-05-07T08:19:50.207174Z",
     "iopub.status.idle": "2025-05-07T08:19:54.050431Z",
     "shell.execute_reply": "2025-05-07T08:19:54.049616Z"
    },
    "papermill": {
     "duration": 3.852846,
     "end_time": "2025-05-07T08:19:54.052112",
     "exception": false,
     "start_time": "2025-05-07T08:19:50.199266",
     "status": "completed"
    },
    "tags": []
   },
   "outputs": [],
   "source": [
    "import pandas as pd\n",
    "import numpy as np\n",
    "import matplotlib.pyplot as plt\n",
    "import seaborn as sns"
   ]
  },
  {
   "cell_type": "code",
   "execution_count": 2,
   "id": "aedeebec",
   "metadata": {
    "execution": {
     "iopub.execute_input": "2025-05-07T08:19:54.067761Z",
     "iopub.status.busy": "2025-05-07T08:19:54.067242Z",
     "iopub.status.idle": "2025-05-07T08:19:54.259321Z",
     "shell.execute_reply": "2025-05-07T08:19:54.258508Z"
    },
    "papermill": {
     "duration": 0.202302,
     "end_time": "2025-05-07T08:19:54.261529",
     "exception": false,
     "start_time": "2025-05-07T08:19:54.059227",
     "status": "completed"
    },
    "tags": []
   },
   "outputs": [],
   "source": [
    "from sklearn.preprocessing import StandardScaler, OneHotEncoder\n",
    "from sklearn.pipeline import Pipeline\n",
    "from sklearn.compose import ColumnTransformer"
   ]
  },
  {
   "cell_type": "markdown",
   "id": "19bf1fc2",
   "metadata": {
    "papermill": {
     "duration": 0.006984,
     "end_time": "2025-05-07T08:19:54.277329",
     "exception": false,
     "start_time": "2025-05-07T08:19:54.270345",
     "status": "completed"
    },
    "tags": []
   },
   "source": [
    "### Data Preparation"
   ]
  },
  {
   "cell_type": "code",
   "execution_count": 3,
   "id": "76598b52",
   "metadata": {
    "execution": {
     "iopub.execute_input": "2025-05-07T08:19:54.293295Z",
     "iopub.status.busy": "2025-05-07T08:19:54.293003Z",
     "iopub.status.idle": "2025-05-07T08:19:56.177541Z",
     "shell.execute_reply": "2025-05-07T08:19:56.176739Z"
    },
    "papermill": {
     "duration": 1.894492,
     "end_time": "2025-05-07T08:19:56.179037",
     "exception": false,
     "start_time": "2025-05-07T08:19:54.284545",
     "status": "completed"
    },
    "tags": []
   },
   "outputs": [],
   "source": [
    "customers_df = pd.read_csv('/kaggle/input/brazilian-ecommerce/olist_customers_dataset.csv')\n",
    "items_df = pd.read_csv('/kaggle/input/brazilian-ecommerce/olist_order_items_dataset.csv')\n",
    "payments_df = pd.read_csv('/kaggle/input/brazilian-ecommerce/olist_order_payments_dataset.csv')\n",
    "orders_df = pd.read_csv('/kaggle/input/brazilian-ecommerce/olist_orders_dataset.csv')\n",
    "products_df = pd.read_csv('/kaggle/input/brazilian-ecommerce/olist_products_dataset.csv')\n",
    "sellers_df = pd.read_csv('/kaggle/input/brazilian-ecommerce/olist_sellers_dataset.csv')\n",
    "category_df = pd.read_csv('/kaggle/input/brazilian-ecommerce/product_category_name_translation.csv')"
   ]
  },
  {
   "cell_type": "code",
   "execution_count": 4,
   "id": "649774a2",
   "metadata": {
    "execution": {
     "iopub.execute_input": "2025-05-07T08:19:56.194671Z",
     "iopub.status.busy": "2025-05-07T08:19:56.194310Z",
     "iopub.status.idle": "2025-05-07T08:19:56.220365Z",
     "shell.execute_reply": "2025-05-07T08:19:56.219647Z"
    },
    "papermill": {
     "duration": 0.035382,
     "end_time": "2025-05-07T08:19:56.221907",
     "exception": false,
     "start_time": "2025-05-07T08:19:56.186525",
     "status": "completed"
    },
    "tags": []
   },
   "outputs": [],
   "source": [
    "products_df = pd.merge(products_df,category_df,on = 'product_category_name' ,how = 'left')\n",
    "del products_df['product_category_name']\n",
    "del category_df\n",
    "\n",
    "\n",
    "products_df.rename(columns = {'product_category_name_english': 'product_category'},inplace = True)"
   ]
  },
  {
   "cell_type": "code",
   "execution_count": 5,
   "id": "2e06d554",
   "metadata": {
    "execution": {
     "iopub.execute_input": "2025-05-07T08:19:56.237316Z",
     "iopub.status.busy": "2025-05-07T08:19:56.236992Z",
     "iopub.status.idle": "2025-05-07T08:19:57.212053Z",
     "shell.execute_reply": "2025-05-07T08:19:57.211136Z"
    },
    "papermill": {
     "duration": 0.984658,
     "end_time": "2025-05-07T08:19:57.213577",
     "exception": false,
     "start_time": "2025-05-07T08:19:56.228919",
     "status": "completed"
    },
    "tags": []
   },
   "outputs": [
    {
     "data": {
      "text/html": [
       "<div>\n",
       "<style scoped>\n",
       "    .dataframe tbody tr th:only-of-type {\n",
       "        vertical-align: middle;\n",
       "    }\n",
       "\n",
       "    .dataframe tbody tr th {\n",
       "        vertical-align: top;\n",
       "    }\n",
       "\n",
       "    .dataframe thead th {\n",
       "        text-align: right;\n",
       "    }\n",
       "</style>\n",
       "<table border=\"1\" class=\"dataframe\">\n",
       "  <thead>\n",
       "    <tr style=\"text-align: right;\">\n",
       "      <th></th>\n",
       "      <th>order_id</th>\n",
       "      <th>customer_id</th>\n",
       "      <th>order_status</th>\n",
       "      <th>order_purchase_timestamp</th>\n",
       "      <th>order_approved_at</th>\n",
       "      <th>order_delivered_carrier_date</th>\n",
       "      <th>order_delivered_customer_date</th>\n",
       "      <th>order_estimated_delivery_date</th>\n",
       "      <th>customer_unique_id</th>\n",
       "      <th>customer_zip_code_prefix</th>\n",
       "      <th>...</th>\n",
       "      <th>product_description_lenght</th>\n",
       "      <th>product_photos_qty</th>\n",
       "      <th>product_weight_g</th>\n",
       "      <th>product_length_cm</th>\n",
       "      <th>product_height_cm</th>\n",
       "      <th>product_width_cm</th>\n",
       "      <th>product_category</th>\n",
       "      <th>seller_zip_code_prefix</th>\n",
       "      <th>seller_city</th>\n",
       "      <th>seller_state</th>\n",
       "    </tr>\n",
       "  </thead>\n",
       "  <tbody>\n",
       "    <tr>\n",
       "      <th>0</th>\n",
       "      <td>e481f51cbdc54678b7cc49136f2d6af7</td>\n",
       "      <td>9ef432eb6251297304e76186b10a928d</td>\n",
       "      <td>delivered</td>\n",
       "      <td>2017-10-02 10:56:33</td>\n",
       "      <td>2017-10-02 11:07:15</td>\n",
       "      <td>2017-10-04 19:55:00</td>\n",
       "      <td>2017-10-10 21:25:13</td>\n",
       "      <td>2017-10-18 00:00:00</td>\n",
       "      <td>7c396fd4830fd04220f754e42b4e5bff</td>\n",
       "      <td>3149</td>\n",
       "      <td>...</td>\n",
       "      <td>268.0</td>\n",
       "      <td>4.0</td>\n",
       "      <td>500.0</td>\n",
       "      <td>19.0</td>\n",
       "      <td>8.0</td>\n",
       "      <td>13.0</td>\n",
       "      <td>housewares</td>\n",
       "      <td>9350</td>\n",
       "      <td>maua</td>\n",
       "      <td>SP</td>\n",
       "    </tr>\n",
       "    <tr>\n",
       "      <th>1</th>\n",
       "      <td>e481f51cbdc54678b7cc49136f2d6af7</td>\n",
       "      <td>9ef432eb6251297304e76186b10a928d</td>\n",
       "      <td>delivered</td>\n",
       "      <td>2017-10-02 10:56:33</td>\n",
       "      <td>2017-10-02 11:07:15</td>\n",
       "      <td>2017-10-04 19:55:00</td>\n",
       "      <td>2017-10-10 21:25:13</td>\n",
       "      <td>2017-10-18 00:00:00</td>\n",
       "      <td>7c396fd4830fd04220f754e42b4e5bff</td>\n",
       "      <td>3149</td>\n",
       "      <td>...</td>\n",
       "      <td>268.0</td>\n",
       "      <td>4.0</td>\n",
       "      <td>500.0</td>\n",
       "      <td>19.0</td>\n",
       "      <td>8.0</td>\n",
       "      <td>13.0</td>\n",
       "      <td>housewares</td>\n",
       "      <td>9350</td>\n",
       "      <td>maua</td>\n",
       "      <td>SP</td>\n",
       "    </tr>\n",
       "    <tr>\n",
       "      <th>2</th>\n",
       "      <td>e481f51cbdc54678b7cc49136f2d6af7</td>\n",
       "      <td>9ef432eb6251297304e76186b10a928d</td>\n",
       "      <td>delivered</td>\n",
       "      <td>2017-10-02 10:56:33</td>\n",
       "      <td>2017-10-02 11:07:15</td>\n",
       "      <td>2017-10-04 19:55:00</td>\n",
       "      <td>2017-10-10 21:25:13</td>\n",
       "      <td>2017-10-18 00:00:00</td>\n",
       "      <td>7c396fd4830fd04220f754e42b4e5bff</td>\n",
       "      <td>3149</td>\n",
       "      <td>...</td>\n",
       "      <td>268.0</td>\n",
       "      <td>4.0</td>\n",
       "      <td>500.0</td>\n",
       "      <td>19.0</td>\n",
       "      <td>8.0</td>\n",
       "      <td>13.0</td>\n",
       "      <td>housewares</td>\n",
       "      <td>9350</td>\n",
       "      <td>maua</td>\n",
       "      <td>SP</td>\n",
       "    </tr>\n",
       "    <tr>\n",
       "      <th>3</th>\n",
       "      <td>53cdb2fc8bc7dce0b6741e2150273451</td>\n",
       "      <td>b0830fb4747a6c6d20dea0b8c802d7ef</td>\n",
       "      <td>delivered</td>\n",
       "      <td>2018-07-24 20:41:37</td>\n",
       "      <td>2018-07-26 03:24:27</td>\n",
       "      <td>2018-07-26 14:31:00</td>\n",
       "      <td>2018-08-07 15:27:45</td>\n",
       "      <td>2018-08-13 00:00:00</td>\n",
       "      <td>af07308b275d755c9edb36a90c618231</td>\n",
       "      <td>47813</td>\n",
       "      <td>...</td>\n",
       "      <td>178.0</td>\n",
       "      <td>1.0</td>\n",
       "      <td>400.0</td>\n",
       "      <td>19.0</td>\n",
       "      <td>13.0</td>\n",
       "      <td>19.0</td>\n",
       "      <td>perfumery</td>\n",
       "      <td>31570</td>\n",
       "      <td>belo horizonte</td>\n",
       "      <td>SP</td>\n",
       "    </tr>\n",
       "  </tbody>\n",
       "</table>\n",
       "<p>4 rows × 33 columns</p>\n",
       "</div>"
      ],
      "text/plain": [
       "                           order_id                       customer_id  \\\n",
       "0  e481f51cbdc54678b7cc49136f2d6af7  9ef432eb6251297304e76186b10a928d   \n",
       "1  e481f51cbdc54678b7cc49136f2d6af7  9ef432eb6251297304e76186b10a928d   \n",
       "2  e481f51cbdc54678b7cc49136f2d6af7  9ef432eb6251297304e76186b10a928d   \n",
       "3  53cdb2fc8bc7dce0b6741e2150273451  b0830fb4747a6c6d20dea0b8c802d7ef   \n",
       "\n",
       "  order_status order_purchase_timestamp    order_approved_at  \\\n",
       "0    delivered      2017-10-02 10:56:33  2017-10-02 11:07:15   \n",
       "1    delivered      2017-10-02 10:56:33  2017-10-02 11:07:15   \n",
       "2    delivered      2017-10-02 10:56:33  2017-10-02 11:07:15   \n",
       "3    delivered      2018-07-24 20:41:37  2018-07-26 03:24:27   \n",
       "\n",
       "  order_delivered_carrier_date order_delivered_customer_date  \\\n",
       "0          2017-10-04 19:55:00           2017-10-10 21:25:13   \n",
       "1          2017-10-04 19:55:00           2017-10-10 21:25:13   \n",
       "2          2017-10-04 19:55:00           2017-10-10 21:25:13   \n",
       "3          2018-07-26 14:31:00           2018-08-07 15:27:45   \n",
       "\n",
       "  order_estimated_delivery_date                customer_unique_id  \\\n",
       "0           2017-10-18 00:00:00  7c396fd4830fd04220f754e42b4e5bff   \n",
       "1           2017-10-18 00:00:00  7c396fd4830fd04220f754e42b4e5bff   \n",
       "2           2017-10-18 00:00:00  7c396fd4830fd04220f754e42b4e5bff   \n",
       "3           2018-08-13 00:00:00  af07308b275d755c9edb36a90c618231   \n",
       "\n",
       "   customer_zip_code_prefix  ... product_description_lenght  \\\n",
       "0                      3149  ...                      268.0   \n",
       "1                      3149  ...                      268.0   \n",
       "2                      3149  ...                      268.0   \n",
       "3                     47813  ...                      178.0   \n",
       "\n",
       "  product_photos_qty  product_weight_g product_length_cm product_height_cm  \\\n",
       "0                4.0             500.0              19.0               8.0   \n",
       "1                4.0             500.0              19.0               8.0   \n",
       "2                4.0             500.0              19.0               8.0   \n",
       "3                1.0             400.0              19.0              13.0   \n",
       "\n",
       "  product_width_cm  product_category  seller_zip_code_prefix     seller_city  \\\n",
       "0             13.0        housewares                    9350            maua   \n",
       "1             13.0        housewares                    9350            maua   \n",
       "2             13.0        housewares                    9350            maua   \n",
       "3             19.0         perfumery                   31570  belo horizonte   \n",
       "\n",
       "  seller_state  \n",
       "0           SP  \n",
       "1           SP  \n",
       "2           SP  \n",
       "3           SP  \n",
       "\n",
       "[4 rows x 33 columns]"
      ]
     },
     "execution_count": 5,
     "metadata": {},
     "output_type": "execute_result"
    }
   ],
   "source": [
    "df = pd.merge(orders_df,customers_df, on = 'customer_id')\n",
    "df = df.merge(items_df, on = 'order_id')\n",
    "df = df.merge(payments_df, on = 'order_id' )\n",
    "df = df.merge(products_df, on = 'product_id')\n",
    "df = df.merge(sellers_df, on = 'seller_id')\n",
    "\n",
    "df.head(4)"
   ]
  },
  {
   "cell_type": "code",
   "execution_count": 6,
   "id": "397d24b8",
   "metadata": {
    "execution": {
     "iopub.execute_input": "2025-05-07T08:19:57.229373Z",
     "iopub.status.busy": "2025-05-07T08:19:57.229073Z",
     "iopub.status.idle": "2025-05-07T08:19:57.386921Z",
     "shell.execute_reply": "2025-05-07T08:19:57.386173Z"
    },
    "papermill": {
     "duration": 0.167508,
     "end_time": "2025-05-07T08:19:57.388495",
     "exception": false,
     "start_time": "2025-05-07T08:19:57.220987",
     "status": "completed"
    },
    "tags": []
   },
   "outputs": [],
   "source": [
    "df['order_purchase_year'] = pd.to_datetime(df['order_purchase_timestamp']).dt.year\n",
    "df['order_purchase_month'] = pd.to_datetime(df['order_purchase_timestamp']).dt.month\n",
    "df['order_purchase_day'] = pd.to_datetime(df['order_purchase_timestamp']).dt.day\n",
    "df['order_purchase_hour'] = pd.to_datetime(df['order_purchase_timestamp']).dt.hour"
   ]
  },
  {
   "cell_type": "code",
   "execution_count": 7,
   "id": "06f60577",
   "metadata": {
    "execution": {
     "iopub.execute_input": "2025-05-07T08:19:57.405404Z",
     "iopub.status.busy": "2025-05-07T08:19:57.405068Z",
     "iopub.status.idle": "2025-05-07T08:19:57.410747Z",
     "shell.execute_reply": "2025-05-07T08:19:57.410048Z"
    },
    "papermill": {
     "duration": 0.015583,
     "end_time": "2025-05-07T08:19:57.412037",
     "exception": false,
     "start_time": "2025-05-07T08:19:57.396454",
     "status": "completed"
    },
    "tags": []
   },
   "outputs": [
    {
     "data": {
      "text/plain": [
       "Index(['order_id', 'customer_id', 'order_status', 'order_purchase_timestamp',\n",
       "       'order_approved_at', 'order_delivered_carrier_date',\n",
       "       'order_delivered_customer_date', 'order_estimated_delivery_date',\n",
       "       'customer_unique_id', 'customer_zip_code_prefix', 'customer_city',\n",
       "       'customer_state', 'order_item_id', 'product_id', 'seller_id',\n",
       "       'shipping_limit_date', 'price', 'freight_value', 'payment_sequential',\n",
       "       'payment_type', 'payment_installments', 'payment_value',\n",
       "       'product_name_lenght', 'product_description_lenght',\n",
       "       'product_photos_qty', 'product_weight_g', 'product_length_cm',\n",
       "       'product_height_cm', 'product_width_cm', 'product_category',\n",
       "       'seller_zip_code_prefix', 'seller_city', 'seller_state',\n",
       "       'order_purchase_year', 'order_purchase_month', 'order_purchase_day',\n",
       "       'order_purchase_hour'],\n",
       "      dtype='object')"
      ]
     },
     "execution_count": 7,
     "metadata": {},
     "output_type": "execute_result"
    }
   ],
   "source": [
    "df.columns"
   ]
  },
  {
   "cell_type": "code",
   "execution_count": 8,
   "id": "4f1bd9cf",
   "metadata": {
    "execution": {
     "iopub.execute_input": "2025-05-07T08:19:57.427955Z",
     "iopub.status.busy": "2025-05-07T08:19:57.427648Z",
     "iopub.status.idle": "2025-05-07T08:19:57.445728Z",
     "shell.execute_reply": "2025-05-07T08:19:57.444886Z"
    },
    "papermill": {
     "duration": 0.027769,
     "end_time": "2025-05-07T08:19:57.447137",
     "exception": false,
     "start_time": "2025-05-07T08:19:57.419368",
     "status": "completed"
    },
    "tags": []
   },
   "outputs": [
    {
     "data": {
      "text/html": [
       "<div>\n",
       "<style scoped>\n",
       "    .dataframe tbody tr th:only-of-type {\n",
       "        vertical-align: middle;\n",
       "    }\n",
       "\n",
       "    .dataframe tbody tr th {\n",
       "        vertical-align: top;\n",
       "    }\n",
       "\n",
       "    .dataframe thead th {\n",
       "        text-align: right;\n",
       "    }\n",
       "</style>\n",
       "<table border=\"1\" class=\"dataframe\">\n",
       "  <thead>\n",
       "    <tr style=\"text-align: right;\">\n",
       "      <th></th>\n",
       "      <th>order_status</th>\n",
       "      <th>customer_state</th>\n",
       "      <th>order_item_id</th>\n",
       "      <th>price</th>\n",
       "      <th>freight_value</th>\n",
       "      <th>payment_sequential</th>\n",
       "      <th>payment_type</th>\n",
       "      <th>payment_installments</th>\n",
       "      <th>payment_value</th>\n",
       "      <th>order_purchase_year</th>\n",
       "      <th>order_purchase_month</th>\n",
       "      <th>order_purchase_day</th>\n",
       "      <th>order_purchase_hour</th>\n",
       "    </tr>\n",
       "  </thead>\n",
       "  <tbody>\n",
       "    <tr>\n",
       "      <th>0</th>\n",
       "      <td>delivered</td>\n",
       "      <td>SP</td>\n",
       "      <td>1</td>\n",
       "      <td>29.99</td>\n",
       "      <td>8.72</td>\n",
       "      <td>1</td>\n",
       "      <td>credit_card</td>\n",
       "      <td>1</td>\n",
       "      <td>18.12</td>\n",
       "      <td>2017</td>\n",
       "      <td>10</td>\n",
       "      <td>2</td>\n",
       "      <td>10</td>\n",
       "    </tr>\n",
       "    <tr>\n",
       "      <th>1</th>\n",
       "      <td>delivered</td>\n",
       "      <td>SP</td>\n",
       "      <td>1</td>\n",
       "      <td>29.99</td>\n",
       "      <td>8.72</td>\n",
       "      <td>3</td>\n",
       "      <td>voucher</td>\n",
       "      <td>1</td>\n",
       "      <td>2.00</td>\n",
       "      <td>2017</td>\n",
       "      <td>10</td>\n",
       "      <td>2</td>\n",
       "      <td>10</td>\n",
       "    </tr>\n",
       "    <tr>\n",
       "      <th>2</th>\n",
       "      <td>delivered</td>\n",
       "      <td>SP</td>\n",
       "      <td>1</td>\n",
       "      <td>29.99</td>\n",
       "      <td>8.72</td>\n",
       "      <td>2</td>\n",
       "      <td>voucher</td>\n",
       "      <td>1</td>\n",
       "      <td>18.59</td>\n",
       "      <td>2017</td>\n",
       "      <td>10</td>\n",
       "      <td>2</td>\n",
       "      <td>10</td>\n",
       "    </tr>\n",
       "    <tr>\n",
       "      <th>3</th>\n",
       "      <td>delivered</td>\n",
       "      <td>BA</td>\n",
       "      <td>1</td>\n",
       "      <td>118.70</td>\n",
       "      <td>22.76</td>\n",
       "      <td>1</td>\n",
       "      <td>boleto</td>\n",
       "      <td>1</td>\n",
       "      <td>141.46</td>\n",
       "      <td>2018</td>\n",
       "      <td>7</td>\n",
       "      <td>24</td>\n",
       "      <td>20</td>\n",
       "    </tr>\n",
       "    <tr>\n",
       "      <th>4</th>\n",
       "      <td>delivered</td>\n",
       "      <td>GO</td>\n",
       "      <td>1</td>\n",
       "      <td>159.90</td>\n",
       "      <td>19.22</td>\n",
       "      <td>1</td>\n",
       "      <td>credit_card</td>\n",
       "      <td>3</td>\n",
       "      <td>179.12</td>\n",
       "      <td>2018</td>\n",
       "      <td>8</td>\n",
       "      <td>8</td>\n",
       "      <td>8</td>\n",
       "    </tr>\n",
       "  </tbody>\n",
       "</table>\n",
       "</div>"
      ],
      "text/plain": [
       "  order_status customer_state  order_item_id   price  freight_value  \\\n",
       "0    delivered             SP              1   29.99           8.72   \n",
       "1    delivered             SP              1   29.99           8.72   \n",
       "2    delivered             SP              1   29.99           8.72   \n",
       "3    delivered             BA              1  118.70          22.76   \n",
       "4    delivered             GO              1  159.90          19.22   \n",
       "\n",
       "   payment_sequential payment_type  payment_installments  payment_value  \\\n",
       "0                   1  credit_card                     1          18.12   \n",
       "1                   3      voucher                     1           2.00   \n",
       "2                   2      voucher                     1          18.59   \n",
       "3                   1       boleto                     1         141.46   \n",
       "4                   1  credit_card                     3         179.12   \n",
       "\n",
       "   order_purchase_year  order_purchase_month  order_purchase_day  \\\n",
       "0                 2017                    10                   2   \n",
       "1                 2017                    10                   2   \n",
       "2                 2017                    10                   2   \n",
       "3                 2018                     7                  24   \n",
       "4                 2018                     8                   8   \n",
       "\n",
       "   order_purchase_hour  \n",
       "0                   10  \n",
       "1                   10  \n",
       "2                   10  \n",
       "3                   20  \n",
       "4                    8  "
      ]
     },
     "execution_count": 8,
     "metadata": {},
     "output_type": "execute_result"
    }
   ],
   "source": [
    "# Selecting useful features for this task\n",
    "columns = ['order_status','customer_state','order_item_id',\n",
    "           'price','freight_value','payment_sequential','payment_type',\n",
    "           'payment_installments','payment_value','order_purchase_year',\n",
    "           'order_purchase_month','order_purchase_day','order_purchase_hour']\n",
    "\n",
    "df = df[columns]\n",
    "df.head()"
   ]
  },
  {
   "cell_type": "code",
   "execution_count": 9,
   "id": "0c83e920",
   "metadata": {
    "execution": {
     "iopub.execute_input": "2025-05-07T08:19:57.464081Z",
     "iopub.status.busy": "2025-05-07T08:19:57.463808Z",
     "iopub.status.idle": "2025-05-07T08:19:57.490438Z",
     "shell.execute_reply": "2025-05-07T08:19:57.489659Z"
    },
    "papermill": {
     "duration": 0.036726,
     "end_time": "2025-05-07T08:19:57.491827",
     "exception": false,
     "start_time": "2025-05-07T08:19:57.455101",
     "status": "completed"
    },
    "tags": []
   },
   "outputs": [
    {
     "data": {
      "text/plain": [
       "order_status            False\n",
       "customer_state          False\n",
       "order_item_id           False\n",
       "price                   False\n",
       "freight_value           False\n",
       "payment_sequential      False\n",
       "payment_type            False\n",
       "payment_installments    False\n",
       "payment_value           False\n",
       "order_purchase_year     False\n",
       "order_purchase_month    False\n",
       "order_purchase_day      False\n",
       "order_purchase_hour     False\n",
       "dtype: bool"
      ]
     },
     "execution_count": 9,
     "metadata": {},
     "output_type": "execute_result"
    }
   ],
   "source": [
    "df.isnull().any()"
   ]
  },
  {
   "cell_type": "code",
   "execution_count": 10,
   "id": "f364e3cd",
   "metadata": {
    "execution": {
     "iopub.execute_input": "2025-05-07T08:19:57.508659Z",
     "iopub.status.busy": "2025-05-07T08:19:57.508312Z",
     "iopub.status.idle": "2025-05-07T08:19:57.576291Z",
     "shell.execute_reply": "2025-05-07T08:19:57.575473Z"
    },
    "papermill": {
     "duration": 0.078213,
     "end_time": "2025-05-07T08:19:57.578008",
     "exception": false,
     "start_time": "2025-05-07T08:19:57.499795",
     "status": "completed"
    },
    "tags": []
   },
   "outputs": [
    {
     "data": {
      "text/html": [
       "<div>\n",
       "<style scoped>\n",
       "    .dataframe tbody tr th:only-of-type {\n",
       "        vertical-align: middle;\n",
       "    }\n",
       "\n",
       "    .dataframe tbody tr th {\n",
       "        vertical-align: top;\n",
       "    }\n",
       "\n",
       "    .dataframe thead th {\n",
       "        text-align: right;\n",
       "    }\n",
       "</style>\n",
       "<table border=\"1\" class=\"dataframe\">\n",
       "  <thead>\n",
       "    <tr style=\"text-align: right;\">\n",
       "      <th></th>\n",
       "      <th>order_item_id</th>\n",
       "      <th>price</th>\n",
       "      <th>freight_value</th>\n",
       "      <th>payment_sequential</th>\n",
       "      <th>payment_installments</th>\n",
       "      <th>payment_value</th>\n",
       "      <th>order_purchase_year</th>\n",
       "      <th>order_purchase_month</th>\n",
       "      <th>order_purchase_day</th>\n",
       "      <th>order_purchase_hour</th>\n",
       "    </tr>\n",
       "  </thead>\n",
       "  <tbody>\n",
       "    <tr>\n",
       "      <th>count</th>\n",
       "      <td>117601.000000</td>\n",
       "      <td>117601.000000</td>\n",
       "      <td>117601.000000</td>\n",
       "      <td>117601.000000</td>\n",
       "      <td>117601.000000</td>\n",
       "      <td>117601.000000</td>\n",
       "      <td>117601.000000</td>\n",
       "      <td>117601.000000</td>\n",
       "      <td>117601.000000</td>\n",
       "      <td>117601.000000</td>\n",
       "    </tr>\n",
       "    <tr>\n",
       "      <th>mean</th>\n",
       "      <td>1.195900</td>\n",
       "      <td>120.824783</td>\n",
       "      <td>20.045990</td>\n",
       "      <td>1.093528</td>\n",
       "      <td>2.939482</td>\n",
       "      <td>172.686752</td>\n",
       "      <td>2017.538193</td>\n",
       "      <td>6.028129</td>\n",
       "      <td>15.549757</td>\n",
       "      <td>14.760002</td>\n",
       "    </tr>\n",
       "    <tr>\n",
       "      <th>std</th>\n",
       "      <td>0.697706</td>\n",
       "      <td>184.479323</td>\n",
       "      <td>15.861315</td>\n",
       "      <td>0.726692</td>\n",
       "      <td>2.774223</td>\n",
       "      <td>267.592290</td>\n",
       "      <td>0.505065</td>\n",
       "      <td>3.229579</td>\n",
       "      <td>8.665830</td>\n",
       "      <td>5.325670</td>\n",
       "    </tr>\n",
       "    <tr>\n",
       "      <th>min</th>\n",
       "      <td>1.000000</td>\n",
       "      <td>0.850000</td>\n",
       "      <td>0.000000</td>\n",
       "      <td>1.000000</td>\n",
       "      <td>0.000000</td>\n",
       "      <td>0.000000</td>\n",
       "      <td>2016.000000</td>\n",
       "      <td>1.000000</td>\n",
       "      <td>1.000000</td>\n",
       "      <td>0.000000</td>\n",
       "    </tr>\n",
       "    <tr>\n",
       "      <th>25%</th>\n",
       "      <td>1.000000</td>\n",
       "      <td>39.900000</td>\n",
       "      <td>13.080000</td>\n",
       "      <td>1.000000</td>\n",
       "      <td>1.000000</td>\n",
       "      <td>60.870000</td>\n",
       "      <td>2017.000000</td>\n",
       "      <td>3.000000</td>\n",
       "      <td>8.000000</td>\n",
       "      <td>11.000000</td>\n",
       "    </tr>\n",
       "    <tr>\n",
       "      <th>50%</th>\n",
       "      <td>1.000000</td>\n",
       "      <td>74.900000</td>\n",
       "      <td>16.290000</td>\n",
       "      <td>1.000000</td>\n",
       "      <td>2.000000</td>\n",
       "      <td>108.210000</td>\n",
       "      <td>2018.000000</td>\n",
       "      <td>6.000000</td>\n",
       "      <td>16.000000</td>\n",
       "      <td>15.000000</td>\n",
       "    </tr>\n",
       "    <tr>\n",
       "      <th>75%</th>\n",
       "      <td>1.000000</td>\n",
       "      <td>134.900000</td>\n",
       "      <td>21.190000</td>\n",
       "      <td>1.000000</td>\n",
       "      <td>4.000000</td>\n",
       "      <td>189.260000</td>\n",
       "      <td>2018.000000</td>\n",
       "      <td>8.000000</td>\n",
       "      <td>23.000000</td>\n",
       "      <td>19.000000</td>\n",
       "    </tr>\n",
       "    <tr>\n",
       "      <th>max</th>\n",
       "      <td>21.000000</td>\n",
       "      <td>6735.000000</td>\n",
       "      <td>409.680000</td>\n",
       "      <td>29.000000</td>\n",
       "      <td>24.000000</td>\n",
       "      <td>13664.080000</td>\n",
       "      <td>2018.000000</td>\n",
       "      <td>12.000000</td>\n",
       "      <td>31.000000</td>\n",
       "      <td>23.000000</td>\n",
       "    </tr>\n",
       "  </tbody>\n",
       "</table>\n",
       "</div>"
      ],
      "text/plain": [
       "       order_item_id          price  freight_value  payment_sequential  \\\n",
       "count  117601.000000  117601.000000  117601.000000       117601.000000   \n",
       "mean        1.195900     120.824783      20.045990            1.093528   \n",
       "std         0.697706     184.479323      15.861315            0.726692   \n",
       "min         1.000000       0.850000       0.000000            1.000000   \n",
       "25%         1.000000      39.900000      13.080000            1.000000   \n",
       "50%         1.000000      74.900000      16.290000            1.000000   \n",
       "75%         1.000000     134.900000      21.190000            1.000000   \n",
       "max        21.000000    6735.000000     409.680000           29.000000   \n",
       "\n",
       "       payment_installments  payment_value  order_purchase_year  \\\n",
       "count         117601.000000  117601.000000        117601.000000   \n",
       "mean               2.939482     172.686752          2017.538193   \n",
       "std                2.774223     267.592290             0.505065   \n",
       "min                0.000000       0.000000          2016.000000   \n",
       "25%                1.000000      60.870000          2017.000000   \n",
       "50%                2.000000     108.210000          2018.000000   \n",
       "75%                4.000000     189.260000          2018.000000   \n",
       "max               24.000000   13664.080000          2018.000000   \n",
       "\n",
       "       order_purchase_month  order_purchase_day  order_purchase_hour  \n",
       "count         117601.000000       117601.000000        117601.000000  \n",
       "mean               6.028129           15.549757            14.760002  \n",
       "std                3.229579            8.665830             5.325670  \n",
       "min                1.000000            1.000000             0.000000  \n",
       "25%                3.000000            8.000000            11.000000  \n",
       "50%                6.000000           16.000000            15.000000  \n",
       "75%                8.000000           23.000000            19.000000  \n",
       "max               12.000000           31.000000            23.000000  "
      ]
     },
     "execution_count": 10,
     "metadata": {},
     "output_type": "execute_result"
    }
   ],
   "source": [
    "df.describe()"
   ]
  },
  {
   "cell_type": "code",
   "execution_count": 11,
   "id": "7aa1ac9f",
   "metadata": {
    "execution": {
     "iopub.execute_input": "2025-05-07T08:19:57.595730Z",
     "iopub.status.busy": "2025-05-07T08:19:57.595364Z",
     "iopub.status.idle": "2025-05-07T08:19:57.633947Z",
     "shell.execute_reply": "2025-05-07T08:19:57.632907Z"
    },
    "papermill": {
     "duration": 0.049035,
     "end_time": "2025-05-07T08:19:57.635447",
     "exception": false,
     "start_time": "2025-05-07T08:19:57.586412",
     "status": "completed"
    },
    "tags": []
   },
   "outputs": [
    {
     "name": "stdout",
     "output_type": "stream",
     "text": [
      "<class 'pandas.core.frame.DataFrame'>\n",
      "RangeIndex: 117601 entries, 0 to 117600\n",
      "Data columns (total 13 columns):\n",
      " #   Column                Non-Null Count   Dtype  \n",
      "---  ------                --------------   -----  \n",
      " 0   order_status          117601 non-null  object \n",
      " 1   customer_state        117601 non-null  object \n",
      " 2   order_item_id         117601 non-null  int64  \n",
      " 3   price                 117601 non-null  float64\n",
      " 4   freight_value         117601 non-null  float64\n",
      " 5   payment_sequential    117601 non-null  int64  \n",
      " 6   payment_type          117601 non-null  object \n",
      " 7   payment_installments  117601 non-null  int64  \n",
      " 8   payment_value         117601 non-null  float64\n",
      " 9   order_purchase_year   117601 non-null  int32  \n",
      " 10  order_purchase_month  117601 non-null  int32  \n",
      " 11  order_purchase_day    117601 non-null  int32  \n",
      " 12  order_purchase_hour   117601 non-null  int32  \n",
      "dtypes: float64(3), int32(4), int64(3), object(3)\n",
      "memory usage: 9.9+ MB\n"
     ]
    }
   ],
   "source": [
    "df.info()"
   ]
  },
  {
   "cell_type": "markdown",
   "id": "aab7791d",
   "metadata": {
    "papermill": {
     "duration": 0.008013,
     "end_time": "2025-05-07T08:19:57.651500",
     "exception": false,
     "start_time": "2025-05-07T08:19:57.643487",
     "status": "completed"
    },
    "tags": []
   },
   "source": [
    "### Performing Standard scaling and OneHotEncoding to prepare data for modeling"
   ]
  },
  {
   "cell_type": "code",
   "execution_count": 12,
   "id": "a8cba641",
   "metadata": {
    "execution": {
     "iopub.execute_input": "2025-05-07T08:19:57.668724Z",
     "iopub.status.busy": "2025-05-07T08:19:57.668310Z",
     "iopub.status.idle": "2025-05-07T08:19:57.870209Z",
     "shell.execute_reply": "2025-05-07T08:19:57.869451Z"
    },
    "papermill": {
     "duration": 0.212151,
     "end_time": "2025-05-07T08:19:57.871599",
     "exception": false,
     "start_time": "2025-05-07T08:19:57.659448",
     "status": "completed"
    },
    "tags": []
   },
   "outputs": [
    {
     "data": {
      "text/plain": [
       "<Compressed Sparse Row sparse matrix of dtype 'float64'\n",
       "\twith 1528813 stored elements and shape (117601, 48)>"
      ]
     },
     "execution_count": 12,
     "metadata": {},
     "output_type": "execute_result"
    }
   ],
   "source": [
    "num_attributes = ['order_item_id','price','freight_value','payment_sequential',\n",
    "                  'payment_installments','payment_value','order_purchase_year',\n",
    "                  'order_purchase_month','order_purchase_day','order_purchase_hour']\n",
    "cat_attributes = ['order_status','customer_state','payment_type']\n",
    "\n",
    "pipline = ColumnTransformer([\n",
    "    ('num',StandardScaler(),num_attributes),\n",
    "    ('cat',OneHotEncoder(),cat_attributes),\n",
    "])\n",
    "\n",
    "df_prepared = pipline.fit_transform(df)\n",
    "df_prepared"
   ]
  },
  {
   "cell_type": "code",
   "execution_count": 13,
   "id": "e0ec2746",
   "metadata": {
    "execution": {
     "iopub.execute_input": "2025-05-07T08:19:57.888987Z",
     "iopub.status.busy": "2025-05-07T08:19:57.888671Z",
     "iopub.status.idle": "2025-05-07T08:19:57.894273Z",
     "shell.execute_reply": "2025-05-07T08:19:57.893539Z"
    },
    "papermill": {
     "duration": 0.015969,
     "end_time": "2025-05-07T08:19:57.895689",
     "exception": false,
     "start_time": "2025-05-07T08:19:57.879720",
     "status": "completed"
    },
    "tags": []
   },
   "outputs": [
    {
     "data": {
      "text/plain": [
       "(117601, 48)"
      ]
     },
     "execution_count": 13,
     "metadata": {},
     "output_type": "execute_result"
    }
   ],
   "source": [
    "df_prepared.shape"
   ]
  },
  {
   "cell_type": "markdown",
   "id": "9a0b9ae7",
   "metadata": {
    "papermill": {
     "duration": 0.007869,
     "end_time": "2025-05-07T08:19:57.912141",
     "exception": false,
     "start_time": "2025-05-07T08:19:57.904272",
     "status": "completed"
    },
    "tags": []
   },
   "source": [
    "Since after performing OneHotEncoding, the data is in sparse matrix format. And for Dimensionality Reduction (PCA) we have to convert it to array"
   ]
  },
  {
   "cell_type": "code",
   "execution_count": 14,
   "id": "faddea56",
   "metadata": {
    "execution": {
     "iopub.execute_input": "2025-05-07T08:19:57.997749Z",
     "iopub.status.busy": "2025-05-07T08:19:57.996788Z",
     "iopub.status.idle": "2025-05-07T08:19:58.087027Z",
     "shell.execute_reply": "2025-05-07T08:19:58.085982Z"
    },
    "papermill": {
     "duration": 0.168888,
     "end_time": "2025-05-07T08:19:58.089054",
     "exception": false,
     "start_time": "2025-05-07T08:19:57.920166",
     "status": "completed"
    },
    "tags": []
   },
   "outputs": [],
   "source": [
    "df_prepared = df_prepared.toarray()"
   ]
  },
  {
   "cell_type": "markdown",
   "id": "4a3d58a0",
   "metadata": {
    "papermill": {
     "duration": 0.007923,
     "end_time": "2025-05-07T08:19:58.105803",
     "exception": false,
     "start_time": "2025-05-07T08:19:58.097880",
     "status": "completed"
    },
    "tags": []
   },
   "source": [
    "### Dimensionaliy Reduction using PCA"
   ]
  },
  {
   "cell_type": "code",
   "execution_count": 15,
   "id": "08170051",
   "metadata": {
    "execution": {
     "iopub.execute_input": "2025-05-07T08:19:58.123312Z",
     "iopub.status.busy": "2025-05-07T08:19:58.122971Z",
     "iopub.status.idle": "2025-05-07T08:19:58.829777Z",
     "shell.execute_reply": "2025-05-07T08:19:58.826423Z"
    },
    "papermill": {
     "duration": 0.71739,
     "end_time": "2025-05-07T08:19:58.831247",
     "exception": false,
     "start_time": "2025-05-07T08:19:58.113857",
     "status": "completed"
    },
    "tags": []
   },
   "outputs": [
    {
     "data": {
      "text/plain": [
       "(117601, 13)"
      ]
     },
     "execution_count": 15,
     "metadata": {},
     "output_type": "execute_result"
    }
   ],
   "source": [
    "from sklearn.decomposition import PCA\n",
    "\n",
    "pca = PCA(n_components = 0.95)\n",
    "df_reduced = pca.fit_transform(df_prepared)\n",
    "df_reduced.shape"
   ]
  },
  {
   "cell_type": "markdown",
   "id": "72b66912",
   "metadata": {
    "papermill": {
     "duration": 0.013726,
     "end_time": "2025-05-07T08:19:58.868214",
     "exception": false,
     "start_time": "2025-05-07T08:19:58.854488",
     "status": "completed"
    },
    "tags": []
   },
   "source": [
    "### KMeans clustering"
   ]
  },
  {
   "cell_type": "code",
   "execution_count": 16,
   "id": "6a952e2a",
   "metadata": {
    "execution": {
     "iopub.execute_input": "2025-05-07T08:19:58.889029Z",
     "iopub.status.busy": "2025-05-07T08:19:58.888318Z",
     "iopub.status.idle": "2025-05-07T08:20:22.872422Z",
     "shell.execute_reply": "2025-05-07T08:20:22.871727Z"
    },
    "papermill": {
     "duration": 23.995044,
     "end_time": "2025-05-07T08:20:22.874234",
     "exception": false,
     "start_time": "2025-05-07T08:19:58.879190",
     "status": "completed"
    },
    "tags": []
   },
   "outputs": [],
   "source": [
    "from sklearn.cluster import KMeans\n",
    "\n",
    "k_range = range(2,15)\n",
    "\n",
    "kmeans_per_k = [KMeans(n_clusters = k,n_init = 10, random_state=42).fit(df_reduced) for k in k_range]\n",
    "\n",
    "inertia = [model.inertia_ for model in kmeans_per_k]"
   ]
  },
  {
   "cell_type": "markdown",
   "id": "b3f01175",
   "metadata": {
    "papermill": {
     "duration": 0.008362,
     "end_time": "2025-05-07T08:20:22.891650",
     "exception": false,
     "start_time": "2025-05-07T08:20:22.883288",
     "status": "completed"
    },
    "tags": []
   },
   "source": [
    "### Elbow plot"
   ]
  },
  {
   "cell_type": "code",
   "execution_count": 17,
   "id": "87e027ac",
   "metadata": {
    "execution": {
     "iopub.execute_input": "2025-05-07T08:20:22.909577Z",
     "iopub.status.busy": "2025-05-07T08:20:22.909225Z",
     "iopub.status.idle": "2025-05-07T08:20:23.162913Z",
     "shell.execute_reply": "2025-05-07T08:20:23.161968Z"
    },
    "papermill": {
     "duration": 0.264538,
     "end_time": "2025-05-07T08:20:23.164508",
     "exception": false,
     "start_time": "2025-05-07T08:20:22.899970",
     "status": "completed"
    },
    "tags": []
   },
   "outputs": [
    {
     "data": {
      "image/png": "[encoded data removed]",
      "text/plain": [
       "<Figure size 1200x800 with 1 Axes>"
      ]
     },
     "metadata": {},
     "output_type": "display_data"
    }
   ],
   "source": [
    "plt.figure(figsize = (12,8))\n",
    "plt.plot(k_range,inertia,'bo-')\n",
    "plt.xlabel('K', fontsize = 16)\n",
    "plt.ylabel('inertia',fontsize = 16)\n",
    "plt.show()"
   ]
  },
  {
   "cell_type": "markdown",
   "id": "f1c326da",
   "metadata": {
    "papermill": {
     "duration": 0.010771,
     "end_time": "2025-05-07T08:20:23.184524",
     "exception": false,
     "start_time": "2025-05-07T08:20:23.173753",
     "status": "completed"
    },
    "tags": []
   },
   "source": [
    "### Using Silhoutte Score for choosing optimum cluster number\n",
    "Had to use a sample because its too computation heavy"
   ]
  },
  {
   "cell_type": "code",
   "execution_count": 18,
   "id": "09697399",
   "metadata": {
    "execution": {
     "iopub.execute_input": "2025-05-07T08:20:23.204979Z",
     "iopub.status.busy": "2025-05-07T08:20:23.204292Z",
     "iopub.status.idle": "2025-05-07T08:20:26.823724Z",
     "shell.execute_reply": "2025-05-07T08:20:26.822935Z"
    },
    "papermill": {
     "duration": 3.630901,
     "end_time": "2025-05-07T08:20:26.825367",
     "exception": false,
     "start_time": "2025-05-07T08:20:23.194466",
     "status": "completed"
    },
    "tags": []
   },
   "outputs": [],
   "source": [
    "from sklearn.metrics import silhouette_score\n",
    "\n",
    "silhouette_scores = [silhouette_score(df_reduced, model.labels_,sample_size=5000, random_state=42)  for model in kmeans_per_k]"
   ]
  },
  {
   "cell_type": "code",
   "execution_count": 19,
   "id": "ac99f38c",
   "metadata": {
    "execution": {
     "iopub.execute_input": "2025-05-07T08:20:26.845582Z",
     "iopub.status.busy": "2025-05-07T08:20:26.844529Z",
     "iopub.status.idle": "2025-05-07T08:20:26.851482Z",
     "shell.execute_reply": "2025-05-07T08:20:26.850621Z"
    },
    "papermill": {
     "duration": 0.01802,
     "end_time": "2025-05-07T08:20:26.852843",
     "exception": false,
     "start_time": "2025-05-07T08:20:26.834823",
     "status": "completed"
    },
    "tags": []
   },
   "outputs": [
    {
     "data": {
      "text/plain": [
       "5"
      ]
     },
     "execution_count": 19,
     "metadata": {},
     "output_type": "execute_result"
    }
   ],
   "source": [
    "best_index = np.argmax(silhouette_scores)\n",
    "best_k = k_range[best_index]\n",
    "best_score = silhouette_scores[best_index]\n",
    "# Best number of clusters\n",
    "best_k"
   ]
  },
  {
   "cell_type": "code",
   "execution_count": 20,
   "id": "460c8bd4",
   "metadata": {
    "execution": {
     "iopub.execute_input": "2025-05-07T08:20:26.871654Z",
     "iopub.status.busy": "2025-05-07T08:20:26.871319Z",
     "iopub.status.idle": "2025-05-07T08:20:27.038475Z",
     "shell.execute_reply": "2025-05-07T08:20:27.037589Z"
    },
    "papermill": {
     "duration": 0.178121,
     "end_time": "2025-05-07T08:20:27.039931",
     "exception": false,
     "start_time": "2025-05-07T08:20:26.861810",
     "status": "completed"
    },
    "tags": []
   },
   "outputs": [
    {
     "data": {
      "image/png": "[encoded data removed]",
      "text/plain": [
       "<Figure size 1200x800 with 1 Axes>"
      ]
     },
     "metadata": {},
     "output_type": "display_data"
    }
   ],
   "source": [
    "plt.figure(figsize = (12,8))\n",
    "plt.plot(k_range,silhouette_scores,'bo-')\n",
    "plt.xlabel('K', fontsize = 16)\n",
    "plt.ylabel('score',fontsize = 16)\n",
    "plt.plot(best_k, best_score,'rs')\n",
    "plt.show()"
   ]
  },
  {
   "cell_type": "code",
   "execution_count": 21,
   "id": "d88c2583",
   "metadata": {
    "execution": {
     "iopub.execute_input": "2025-05-07T08:20:27.061028Z",
     "iopub.status.busy": "2025-05-07T08:20:27.060201Z",
     "iopub.status.idle": "2025-05-07T08:20:27.072123Z",
     "shell.execute_reply": "2025-05-07T08:20:27.071348Z"
    },
    "papermill": {
     "duration": 0.023663,
     "end_time": "2025-05-07T08:20:27.073641",
     "exception": false,
     "start_time": "2025-05-07T08:20:27.049978",
     "status": "completed"
    },
    "tags": []
   },
   "outputs": [
    {
     "data": {
      "text/html": [
       "<style>#sk-container-id-1 {color: black;background-color: white;}#sk-container-id-1 pre{padding: 0;}#sk-container-id-1 div.sk-toggleable {background-color: white;}#sk-container-id-1 label.sk-toggleable__label {cursor: pointer;display: block;width: 100%;margin-bottom: 0;padding: 0.3em;box-sizing: border-box;text-align: center;}#sk-container-id-1 label.sk-toggleable__label-arrow:before {content: \"▸\";float: left;margin-right: 0.25em;color: #696969;}#sk-container-id-1 label.sk-toggleable__label-arrow:hover:before {color: black;}#sk-container-id-1 div.sk-estimator:hover label.sk-toggleable__label-arrow:before {color: black;}#sk-container-id-1 div.sk-toggleable__content {max-height: 0;max-width: 0;overflow: hidden;text-align: left;background-color: #f0f8ff;}#sk-container-id-1 div.sk-toggleable__content pre {margin: 0.2em;color: black;border-radius: 0.25em;background-color: #f0f8ff;}#sk-container-id-1 input.sk-toggleable__control:checked~div.sk-toggleable__content {max-height: 200px;max-width: 100%;overflow: auto;}#sk-container-id-1 input.sk-toggleable__control:checked~label.sk-toggleable__label-arrow:before {content: \"▾\";}#sk-container-id-1 div.sk-estimator input.sk-toggleable__control:checked~label.sk-toggleable__label {background-color: #d4ebff;}#sk-container-id-1 div.sk-label input.sk-toggleable__control:checked~label.sk-toggleable__label {background-color: #d4ebff;}#sk-container-id-1 input.sk-hidden--visually {border: 0;clip: rect(1px 1px 1px 1px);clip: rect(1px, 1px, 1px, 1px);height: 1px;margin: -1px;overflow: hidden;padding: 0;position: absolute;width: 1px;}#sk-container-id-1 div.sk-estimator {font-family: monospace;background-color: #f0f8ff;border: 1px dotted black;border-radius: 0.25em;box-sizing: border-box;margin-bottom: 0.5em;}#sk-container-id-1 div.sk-estimator:hover {background-color: #d4ebff;}#sk-container-id-1 div.sk-parallel-item::after {content: \"\";width: 100%;border-bottom: 1px solid gray;flex-grow: 1;}#sk-container-id-1 div.sk-label:hover label.sk-toggleable__label {background-color: #d4ebff;}#sk-container-id-1 div.sk-serial::before {content: \"\";position: absolute;border-left: 1px solid gray;box-sizing: border-box;top: 0;bottom: 0;left: 50%;z-index: 0;}#sk-container-id-1 div.sk-serial {display: flex;flex-direction: column;align-items: center;background-color: white;padding-right: 0.2em;padding-left: 0.2em;position: relative;}#sk-container-id-1 div.sk-item {position: relative;z-index: 1;}#sk-container-id-1 div.sk-parallel {display: flex;align-items: stretch;justify-content: center;background-color: white;position: relative;}#sk-container-id-1 div.sk-item::before, #sk-container-id-1 div.sk-parallel-item::before {content: \"\";position: absolute;border-left: 1px solid gray;box-sizing: border-box;top: 0;bottom: 0;left: 50%;z-index: -1;}#sk-container-id-1 div.sk-parallel-item {display: flex;flex-direction: column;z-index: 1;position: relative;background-color: white;}#sk-container-id-1 div.sk-parallel-item:first-child::after {align-self: flex-end;width: 50%;}#sk-container-id-1 div.sk-parallel-item:last-child::after {align-self: flex-start;width: 50%;}#sk-container-id-1 div.sk-parallel-item:only-child::after {width: 0;}#sk-container-id-1 div.sk-dashed-wrapped {border: 1px dashed gray;margin: 0 0.4em 0.5em 0.4em;box-sizing: border-box;padding-bottom: 0.4em;background-color: white;}#sk-container-id-1 div.sk-label label {font-family: monospace;font-weight: bold;display: inline-block;line-height: 1.2em;}#sk-container-id-1 div.sk-label-container {text-align: center;}#sk-container-id-1 div.sk-container {/* jupyter's `normalize.less` sets `[hidden] { display: none; }` but bootstrap.min.css set `[hidden] { display: none !important; }` so we also need the `!important` here to be able to override the default hidden behavior on the sphinx rendered scikit-learn.org. See: https://github.com/scikit-learn/scikit-learn/issues/21755 */display: inline-block !important;position: relative;}#sk-container-id-1 div.sk-text-repr-fallback {display: none;}</style><div id=\"sk-container-id-1\" class=\"sk-top-container\"><div class=\"sk-text-repr-fallback\"><pre>KMeans(n_clusters=5, n_init=10, random_state=42)</pre><b>In a Jupyter environment, please rerun this cell to show the HTML representation or trust the notebook. <br />On GitHub, the HTML representation is unable to render, please try loading this page with nbviewer.org.</b></div><div class=\"sk-container\" hidden><div class=\"sk-item\"><div class=\"sk-estimator sk-toggleable\"><input class=\"sk-toggleable__control sk-hidden--visually\" id=\"sk-estimator-id-1\" type=\"checkbox\" checked><label for=\"sk-estimator-id-1\" class=\"sk-toggleable__label sk-toggleable__label-arrow\">KMeans</label><div class=\"sk-toggleable__content\"><pre>KMeans(n_clusters=5, n_init=10, random_state=42)</pre></div></div></div></div></div>"
      ],
      "text/plain": [
       "KMeans(n_clusters=5, n_init=10, random_state=42)"
      ]
     },
     "execution_count": 21,
     "metadata": {},
     "output_type": "execute_result"
    }
   ],
   "source": [
    "best_model = kmeans_per_k[best_index]\n",
    "best_model"
   ]
  },
  {
   "cell_type": "code",
   "execution_count": 22,
   "id": "824fe1db",
   "metadata": {
    "execution": {
     "iopub.execute_input": "2025-05-07T08:20:27.094725Z",
     "iopub.status.busy": "2025-05-07T08:20:27.094343Z",
     "iopub.status.idle": "2025-05-07T08:20:28.151110Z",
     "shell.execute_reply": "2025-05-07T08:20:28.150445Z"
    },
    "papermill": {
     "duration": 1.069258,
     "end_time": "2025-05-07T08:20:28.152909",
     "exception": false,
     "start_time": "2025-05-07T08:20:27.083651",
     "status": "completed"
    },
    "tags": []
   },
   "outputs": [],
   "source": [
    "y_pred = best_model.fit_predict(df_reduced)"
   ]
  },
  {
   "cell_type": "code",
   "execution_count": 23,
   "id": "77d7fd14",
   "metadata": {
    "execution": {
     "iopub.execute_input": "2025-05-07T08:20:28.174714Z",
     "iopub.status.busy": "2025-05-07T08:20:28.174399Z",
     "iopub.status.idle": "2025-05-07T08:20:28.180644Z",
     "shell.execute_reply": "2025-05-07T08:20:28.179670Z"
    },
    "papermill": {
     "duration": 0.01886,
     "end_time": "2025-05-07T08:20:28.181920",
     "exception": false,
     "start_time": "2025-05-07T08:20:28.163060",
     "status": "completed"
    },
    "tags": []
   },
   "outputs": [
    {
     "name": "stdout",
     "output_type": "stream",
     "text": [
      "cluster 1 has 42862 customers \n",
      "cluster 2 has 51609 customers \n",
      "cluster 3 has 16558 customers \n",
      "cluster 4 has 2422 customers \n",
      "cluster 5 has 4150 customers \n"
     ]
    }
   ],
   "source": [
    "for i in range(best_k):\n",
    "    print(f\"cluster {i +1} has {np.sum(y_pred == i)} customers \")"
   ]
  },
  {
   "cell_type": "markdown",
   "id": "237ded34",
   "metadata": {
    "papermill": {
     "duration": 0.00954,
     "end_time": "2025-05-07T08:20:28.201344",
     "exception": false,
     "start_time": "2025-05-07T08:20:28.191804",
     "status": "completed"
    },
    "tags": []
   },
   "source": [
    "TSNE is very computationally heavy since the data has more than 100k rows"
   ]
  },
  {
   "cell_type": "code",
   "execution_count": 24,
   "id": "96415171",
   "metadata": {
    "execution": {
     "iopub.execute_input": "2025-05-07T08:20:28.222753Z",
     "iopub.status.busy": "2025-05-07T08:20:28.222088Z",
     "iopub.status.idle": "2025-05-07T08:20:28.227527Z",
     "shell.execute_reply": "2025-05-07T08:20:28.226792Z"
    },
    "papermill": {
     "duration": 0.01779,
     "end_time": "2025-05-07T08:20:28.228782",
     "exception": false,
     "start_time": "2025-05-07T08:20:28.210992",
     "status": "completed"
    },
    "tags": []
   },
   "outputs": [
    {
     "data": {
      "text/plain": [
       "'from sklearn.manifold import TSNE\\n\\ntsne = TSNE(n_components=2, random_state=42)\\ndf_reduced = tsne.fit_transform(df_reduced) '"
      ]
     },
     "execution_count": 24,
     "metadata": {},
     "output_type": "execute_result"
    }
   ],
   "source": [
    "'''from sklearn.manifold import TSNE\n",
    "\n",
    "tsne = TSNE(n_components=2, random_state=42)\n",
    "df_reduced = tsne.fit_transform(df_reduced) '''"
   ]
  },
  {
   "cell_type": "code",
   "execution_count": 25,
   "id": "fd6c377b",
   "metadata": {
    "execution": {
     "iopub.execute_input": "2025-05-07T08:20:28.250487Z",
     "iopub.status.busy": "2025-05-07T08:20:28.249732Z",
     "iopub.status.idle": "2025-05-07T08:20:28.255244Z",
     "shell.execute_reply": "2025-05-07T08:20:28.254426Z"
    },
    "papermill": {
     "duration": 0.017757,
     "end_time": "2025-05-07T08:20:28.256657",
     "exception": false,
     "start_time": "2025-05-07T08:20:28.238900",
     "status": "completed"
    },
    "tags": []
   },
   "outputs": [
    {
     "data": {
      "text/plain": [
       "'plt.figure(figsize=(13,10 ))\\nplt.scatter(df_reduced[:, 0], df_reduced[:, 1],c=y_pred, cmap=\"jet\")\\nplt.axis(\\'off\\')\\nplt.colorbar()\\nplt.show() '"
      ]
     },
     "execution_count": 25,
     "metadata": {},
     "output_type": "execute_result"
    }
   ],
   "source": [
    "'''plt.figure(figsize=(13,10 ))\n",
    "plt.scatter(df_reduced[:, 0], df_reduced[:, 1],c=y_pred, cmap=\"jet\")\n",
    "plt.axis('off')\n",
    "plt.colorbar()\n",
    "plt.show() '''"
   ]
  },
  {
   "cell_type": "code",
   "execution_count": 26,
   "id": "91a0f495",
   "metadata": {
    "execution": {
     "iopub.execute_input": "2025-05-07T08:20:28.277881Z",
     "iopub.status.busy": "2025-05-07T08:20:28.277567Z",
     "iopub.status.idle": "2025-05-07T08:20:28.282637Z",
     "shell.execute_reply": "2025-05-07T08:20:28.281785Z"
    },
    "papermill": {
     "duration": 0.017374,
     "end_time": "2025-05-07T08:20:28.284037",
     "exception": false,
     "start_time": "2025-05-07T08:20:28.266663",
     "status": "completed"
    },
    "tags": []
   },
   "outputs": [],
   "source": [
    "df['cluster'] = best_model.labels_"
   ]
  },
  {
   "cell_type": "code",
   "execution_count": 27,
   "id": "4073f5e0",
   "metadata": {
    "execution": {
     "iopub.execute_input": "2025-05-07T08:20:28.305322Z",
     "iopub.status.busy": "2025-05-07T08:20:28.305014Z",
     "iopub.status.idle": "2025-05-07T08:20:28.318958Z",
     "shell.execute_reply": "2025-05-07T08:20:28.318231Z"
    },
    "papermill": {
     "duration": 0.026087,
     "end_time": "2025-05-07T08:20:28.320188",
     "exception": false,
     "start_time": "2025-05-07T08:20:28.294101",
     "status": "completed"
    },
    "tags": []
   },
   "outputs": [
    {
     "data": {
      "text/html": [
       "<div>\n",
       "<style scoped>\n",
       "    .dataframe tbody tr th:only-of-type {\n",
       "        vertical-align: middle;\n",
       "    }\n",
       "\n",
       "    .dataframe tbody tr th {\n",
       "        vertical-align: top;\n",
       "    }\n",
       "\n",
       "    .dataframe thead th {\n",
       "        text-align: right;\n",
       "    }\n",
       "</style>\n",
       "<table border=\"1\" class=\"dataframe\">\n",
       "  <thead>\n",
       "    <tr style=\"text-align: right;\">\n",
       "      <th></th>\n",
       "      <th>order_status</th>\n",
       "      <th>customer_state</th>\n",
       "      <th>order_item_id</th>\n",
       "      <th>price</th>\n",
       "      <th>freight_value</th>\n",
       "      <th>payment_sequential</th>\n",
       "      <th>payment_type</th>\n",
       "      <th>payment_installments</th>\n",
       "      <th>payment_value</th>\n",
       "      <th>order_purchase_year</th>\n",
       "      <th>order_purchase_month</th>\n",
       "      <th>order_purchase_day</th>\n",
       "      <th>order_purchase_hour</th>\n",
       "      <th>cluster</th>\n",
       "    </tr>\n",
       "  </thead>\n",
       "  <tbody>\n",
       "    <tr>\n",
       "      <th>0</th>\n",
       "      <td>delivered</td>\n",
       "      <td>SP</td>\n",
       "      <td>1</td>\n",
       "      <td>29.99</td>\n",
       "      <td>8.72</td>\n",
       "      <td>1</td>\n",
       "      <td>credit_card</td>\n",
       "      <td>1</td>\n",
       "      <td>18.12</td>\n",
       "      <td>2017</td>\n",
       "      <td>10</td>\n",
       "      <td>2</td>\n",
       "      <td>10</td>\n",
       "      <td>0</td>\n",
       "    </tr>\n",
       "    <tr>\n",
       "      <th>1</th>\n",
       "      <td>delivered</td>\n",
       "      <td>SP</td>\n",
       "      <td>1</td>\n",
       "      <td>29.99</td>\n",
       "      <td>8.72</td>\n",
       "      <td>3</td>\n",
       "      <td>voucher</td>\n",
       "      <td>1</td>\n",
       "      <td>2.00</td>\n",
       "      <td>2017</td>\n",
       "      <td>10</td>\n",
       "      <td>2</td>\n",
       "      <td>10</td>\n",
       "      <td>0</td>\n",
       "    </tr>\n",
       "    <tr>\n",
       "      <th>2</th>\n",
       "      <td>delivered</td>\n",
       "      <td>SP</td>\n",
       "      <td>1</td>\n",
       "      <td>29.99</td>\n",
       "      <td>8.72</td>\n",
       "      <td>2</td>\n",
       "      <td>voucher</td>\n",
       "      <td>1</td>\n",
       "      <td>18.59</td>\n",
       "      <td>2017</td>\n",
       "      <td>10</td>\n",
       "      <td>2</td>\n",
       "      <td>10</td>\n",
       "      <td>0</td>\n",
       "    </tr>\n",
       "    <tr>\n",
       "      <th>3</th>\n",
       "      <td>delivered</td>\n",
       "      <td>BA</td>\n",
       "      <td>1</td>\n",
       "      <td>118.70</td>\n",
       "      <td>22.76</td>\n",
       "      <td>1</td>\n",
       "      <td>boleto</td>\n",
       "      <td>1</td>\n",
       "      <td>141.46</td>\n",
       "      <td>2018</td>\n",
       "      <td>7</td>\n",
       "      <td>24</td>\n",
       "      <td>20</td>\n",
       "      <td>1</td>\n",
       "    </tr>\n",
       "    <tr>\n",
       "      <th>4</th>\n",
       "      <td>delivered</td>\n",
       "      <td>GO</td>\n",
       "      <td>1</td>\n",
       "      <td>159.90</td>\n",
       "      <td>19.22</td>\n",
       "      <td>1</td>\n",
       "      <td>credit_card</td>\n",
       "      <td>3</td>\n",
       "      <td>179.12</td>\n",
       "      <td>2018</td>\n",
       "      <td>8</td>\n",
       "      <td>8</td>\n",
       "      <td>8</td>\n",
       "      <td>1</td>\n",
       "    </tr>\n",
       "    <tr>\n",
       "      <th>5</th>\n",
       "      <td>delivered</td>\n",
       "      <td>RN</td>\n",
       "      <td>1</td>\n",
       "      <td>45.00</td>\n",
       "      <td>27.20</td>\n",
       "      <td>1</td>\n",
       "      <td>credit_card</td>\n",
       "      <td>1</td>\n",
       "      <td>72.20</td>\n",
       "      <td>2017</td>\n",
       "      <td>11</td>\n",
       "      <td>18</td>\n",
       "      <td>19</td>\n",
       "      <td>0</td>\n",
       "    </tr>\n",
       "    <tr>\n",
       "      <th>6</th>\n",
       "      <td>delivered</td>\n",
       "      <td>SP</td>\n",
       "      <td>1</td>\n",
       "      <td>19.90</td>\n",
       "      <td>8.72</td>\n",
       "      <td>1</td>\n",
       "      <td>credit_card</td>\n",
       "      <td>1</td>\n",
       "      <td>28.62</td>\n",
       "      <td>2018</td>\n",
       "      <td>2</td>\n",
       "      <td>13</td>\n",
       "      <td>21</td>\n",
       "      <td>1</td>\n",
       "    </tr>\n",
       "    <tr>\n",
       "      <th>7</th>\n",
       "      <td>delivered</td>\n",
       "      <td>PR</td>\n",
       "      <td>1</td>\n",
       "      <td>147.90</td>\n",
       "      <td>27.36</td>\n",
       "      <td>1</td>\n",
       "      <td>credit_card</td>\n",
       "      <td>6</td>\n",
       "      <td>175.26</td>\n",
       "      <td>2017</td>\n",
       "      <td>7</td>\n",
       "      <td>9</td>\n",
       "      <td>21</td>\n",
       "      <td>2</td>\n",
       "    </tr>\n",
       "    <tr>\n",
       "      <th>8</th>\n",
       "      <td>invoiced</td>\n",
       "      <td>RS</td>\n",
       "      <td>1</td>\n",
       "      <td>49.90</td>\n",
       "      <td>16.05</td>\n",
       "      <td>1</td>\n",
       "      <td>credit_card</td>\n",
       "      <td>1</td>\n",
       "      <td>65.95</td>\n",
       "      <td>2017</td>\n",
       "      <td>4</td>\n",
       "      <td>11</td>\n",
       "      <td>12</td>\n",
       "      <td>0</td>\n",
       "    </tr>\n",
       "    <tr>\n",
       "      <th>9</th>\n",
       "      <td>delivered</td>\n",
       "      <td>RJ</td>\n",
       "      <td>1</td>\n",
       "      <td>59.99</td>\n",
       "      <td>15.17</td>\n",
       "      <td>1</td>\n",
       "      <td>credit_card</td>\n",
       "      <td>3</td>\n",
       "      <td>75.16</td>\n",
       "      <td>2017</td>\n",
       "      <td>5</td>\n",
       "      <td>16</td>\n",
       "      <td>13</td>\n",
       "      <td>0</td>\n",
       "    </tr>\n",
       "  </tbody>\n",
       "</table>\n",
       "</div>"
      ],
      "text/plain": [
       "  order_status customer_state  order_item_id   price  freight_value  \\\n",
       "0    delivered             SP              1   29.99           8.72   \n",
       "1    delivered             SP              1   29.99           8.72   \n",
       "2    delivered             SP              1   29.99           8.72   \n",
       "3    delivered             BA              1  118.70          22.76   \n",
       "4    delivered             GO              1  159.90          19.22   \n",
       "5    delivered             RN              1   45.00          27.20   \n",
       "6    delivered             SP              1   19.90           8.72   \n",
       "7    delivered             PR              1  147.90          27.36   \n",
       "8     invoiced             RS              1   49.90          16.05   \n",
       "9    delivered             RJ              1   59.99          15.17   \n",
       "\n",
       "   payment_sequential payment_type  payment_installments  payment_value  \\\n",
       "0                   1  credit_card                     1          18.12   \n",
       "1                   3      voucher                     1           2.00   \n",
       "2                   2      voucher                     1          18.59   \n",
       "3                   1       boleto                     1         141.46   \n",
       "4                   1  credit_card                     3         179.12   \n",
       "5                   1  credit_card                     1          72.20   \n",
       "6                   1  credit_card                     1          28.62   \n",
       "7                   1  credit_card                     6         175.26   \n",
       "8                   1  credit_card                     1          65.95   \n",
       "9                   1  credit_card                     3          75.16   \n",
       "\n",
       "   order_purchase_year  order_purchase_month  order_purchase_day  \\\n",
       "0                 2017                    10                   2   \n",
       "1                 2017                    10                   2   \n",
       "2                 2017                    10                   2   \n",
       "3                 2018                     7                  24   \n",
       "4                 2018                     8                   8   \n",
       "5                 2017                    11                  18   \n",
       "6                 2018                     2                  13   \n",
       "7                 2017                     7                   9   \n",
       "8                 2017                     4                  11   \n",
       "9                 2017                     5                  16   \n",
       "\n",
       "   order_purchase_hour  cluster  \n",
       "0                   10        0  \n",
       "1                   10        0  \n",
       "2                   10        0  \n",
       "3                   20        1  \n",
       "4                    8        1  \n",
       "5                   19        0  \n",
       "6                   21        1  \n",
       "7                   21        2  \n",
       "8                   12        0  \n",
       "9                   13        0  "
      ]
     },
     "execution_count": 27,
     "metadata": {},
     "output_type": "execute_result"
    }
   ],
   "source": [
    "pd.set_option('display.max_columns',None)\n",
    "df.head(10)"
   ]
  },
  {
   "cell_type": "code",
   "execution_count": 28,
   "id": "87b7be8d",
   "metadata": {
    "execution": {
     "iopub.execute_input": "2025-05-07T08:20:28.342194Z",
     "iopub.status.busy": "2025-05-07T08:20:28.341877Z",
     "iopub.status.idle": "2025-05-07T08:20:28.347259Z",
     "shell.execute_reply": "2025-05-07T08:20:28.346451Z"
    },
    "papermill": {
     "duration": 0.018094,
     "end_time": "2025-05-07T08:20:28.348678",
     "exception": false,
     "start_time": "2025-05-07T08:20:28.330584",
     "status": "completed"
    },
    "tags": []
   },
   "outputs": [
    {
     "data": {
      "text/plain": [
       "(117601, 14)"
      ]
     },
     "execution_count": 28,
     "metadata": {},
     "output_type": "execute_result"
    }
   ],
   "source": [
    "df.shape"
   ]
  },
  {
   "cell_type": "markdown",
   "id": "8e266280",
   "metadata": {
    "papermill": {
     "duration": 0.010178,
     "end_time": "2025-05-07T08:20:28.369409",
     "exception": false,
     "start_time": "2025-05-07T08:20:28.359231",
     "status": "completed"
    },
    "tags": []
   },
   "source": [
    "## Making sense of the clusters, identifying trends to label the clusters"
   ]
  },
  {
   "cell_type": "code",
   "execution_count": 29,
   "id": "b7700d1d",
   "metadata": {
    "execution": {
     "iopub.execute_input": "2025-05-07T08:20:28.392078Z",
     "iopub.status.busy": "2025-05-07T08:20:28.391766Z",
     "iopub.status.idle": "2025-05-07T08:20:28.493118Z",
     "shell.execute_reply": "2025-05-07T08:20:28.492407Z"
    },
    "papermill": {
     "duration": 0.114375,
     "end_time": "2025-05-07T08:20:28.494673",
     "exception": false,
     "start_time": "2025-05-07T08:20:28.380298",
     "status": "completed"
    },
    "tags": []
   },
   "outputs": [],
   "source": [
    "sample_df = df.sample(20000, random_state = 42)\n",
    "sample_summary = sample_df.groupby('cluster').describe()"
   ]
  },
  {
   "cell_type": "markdown",
   "id": "dd259971",
   "metadata": {
    "papermill": {
     "duration": 0.010108,
     "end_time": "2025-05-07T08:20:28.515550",
     "exception": false,
     "start_time": "2025-05-07T08:20:28.505442",
     "status": "completed"
    },
    "tags": []
   },
   "source": [
    "Using describe though messy, can give you some idea of the data, look at the important features like price, payment value, frieght value and Ignore the months "
   ]
  },
  {
   "cell_type": "code",
   "execution_count": 30,
   "id": "42abb0e9",
   "metadata": {
    "execution": {
     "iopub.execute_input": "2025-05-07T08:20:28.537993Z",
     "iopub.status.busy": "2025-05-07T08:20:28.537698Z",
     "iopub.status.idle": "2025-05-07T08:20:28.574571Z",
     "shell.execute_reply": "2025-05-07T08:20:28.573445Z"
    },
    "papermill": {
     "duration": 0.049774,
     "end_time": "2025-05-07T08:20:28.576101",
     "exception": false,
     "start_time": "2025-05-07T08:20:28.526327",
     "status": "completed"
    },
    "tags": []
   },
   "outputs": [
    {
     "name": "stdout",
     "output_type": "stream",
     "text": [
      "        order_item_id                                                 price  \\\n",
      "                count      mean       std  min  25%  50%  75%   max   count   \n",
      "cluster                                                                       \n",
      "0              7318.0  1.085952  0.283223  1.0  1.0  1.0  1.0   3.0  7318.0   \n",
      "1              8759.0  1.079461  0.270894  1.0  1.0  1.0  1.0   3.0  8759.0   \n",
      "2              2777.0  1.138999  0.352199  1.0  1.0  1.0  1.0   3.0  2777.0   \n",
      "3               413.0  1.111380  0.469653  1.0  1.0  1.0  1.0   6.0   413.0   \n",
      "4               733.0  4.036835  1.815238  2.0  3.0  3.0  4.0  19.0   733.0   \n",
      "\n",
      "                                                                           \\\n",
      "               mean         std    min      25%     50%      75%      max   \n",
      "cluster                                                                     \n",
      "0         88.320678   81.852201   2.29   36.575   59.99   110.00   788.42   \n",
      "1         89.014522   79.323692   0.85   36.900   67.99   118.47   987.00   \n",
      "2        193.553572  148.529594   4.40   89.900  149.00   249.90   799.99   \n",
      "3        995.037772  567.488518  74.90  650.000  858.90  1200.00  3999.90   \n",
      "4         70.061173   67.014143   1.20   26.900   49.90    89.90   546.90   \n",
      "\n",
      "        freight_value                                                    \\\n",
      "                count       mean        std   min     25%    50%    75%   \n",
      "cluster                                                                   \n",
      "0              7318.0  17.485417   9.455603  0.00  12.690  15.45  18.33   \n",
      "1              8759.0  18.165432  11.007610  0.00  12.585  16.00  20.03   \n",
      "2              2777.0  26.603187  18.057707  0.00  15.820  19.82  30.30   \n",
      "3               413.0  69.997288  54.572210  0.08  28.180  52.59  93.76   \n",
      "4               733.0  16.564543  10.895128  0.00   9.340  15.10  19.32   \n",
      "\n",
      "                payment_sequential                                          \\\n",
      "            max              count      mean       std  min  25%  50%  75%   \n",
      "cluster                                                                      \n",
      "0        134.78             7318.0  1.161520  1.148475  1.0  1.0  1.0  1.0   \n",
      "1        133.73             8759.0  1.077292  0.481524  1.0  1.0  1.0  1.0   \n",
      "2        133.72             2777.0  1.004681  0.068272  1.0  1.0  1.0  1.0   \n",
      "3        339.59              413.0  1.050847  0.368453  1.0  1.0  1.0  1.0   \n",
      "4         83.83              733.0  1.030014  0.243325  1.0  1.0  1.0  1.0   \n",
      "\n",
      "              payment_installments                                           \\\n",
      "          max                count      mean       std  min  25%  50%   75%   \n",
      "cluster                                                                       \n",
      "0        28.0               7318.0  2.007652  1.446583  1.0  1.0  1.0   3.0   \n",
      "1        14.0               8759.0  1.872017  1.304144  0.0  1.0  1.0   3.0   \n",
      "2         2.0               2777.0  8.091826  2.080476  1.0  7.0  8.0  10.0   \n",
      "3         7.0                413.0  5.983051  3.827875  1.0  1.0  8.0  10.0   \n",
      "4         5.0                733.0  3.566166  3.346975  1.0  1.0  2.0   6.0   \n",
      "\n",
      "              payment_value                                            \\\n",
      "          max         count         mean         std    min       25%   \n",
      "cluster                                                                 \n",
      "0         7.0        7318.0   116.397167  104.764977   0.00   51.8025   \n",
      "1         7.0        8759.0   118.410924   99.196048   0.03   53.8800   \n",
      "2        24.0        2777.0   268.153986  181.277573  58.02  137.9300   \n",
      "3        20.0         413.0  1192.235787  872.103878  20.00  779.9000   \n",
      "4        24.0         733.0   428.467585  412.905360  12.82  171.3200   \n",
      "\n",
      "                                    order_purchase_year               \\\n",
      "             50%      75%       max               count         mean   \n",
      "cluster                                                                \n",
      "0          86.15   146.68   1337.19              7318.0  2016.994807   \n",
      "1          92.57   153.10   1478.95              8759.0  2017.998972   \n",
      "2         212.76   348.66   1381.87              2777.0  2017.507742   \n",
      "3        1014.48  1423.21  13664.08               413.0  2017.542373   \n",
      "4         285.63   502.98   3018.60               733.0  2017.544338   \n",
      "\n",
      "                                                           \\\n",
      "              std     min     25%     50%     75%     max   \n",
      "cluster                                                     \n",
      "0        0.071878  2016.0  2017.0  2017.0  2017.0  2017.0   \n",
      "1        0.032040  2017.0  2018.0  2018.0  2018.0  2018.0   \n",
      "2        0.505048  2016.0  2017.0  2018.0  2018.0  2018.0   \n",
      "3        0.508444  2016.0  2017.0  2018.0  2018.0  2018.0   \n",
      "4        0.506527  2016.0  2017.0  2018.0  2018.0  2018.0   \n",
      "\n",
      "        order_purchase_month                                                 \\\n",
      "                       count      mean       std  min  25%  50%   75%   max   \n",
      "cluster                                                                       \n",
      "0                     7318.0  8.102487  3.064500  1.0  6.0  9.0  11.0  12.0   \n",
      "1                     8759.0  4.321155  2.291938  1.0  2.0  4.0   6.0   8.0   \n",
      "2                     2777.0  5.985596  3.038622  1.0  3.0  6.0   8.0  12.0   \n",
      "3                      413.0  6.014528  3.107270  1.0  4.0  6.0   8.0  12.0   \n",
      "4                      733.0  6.133697  3.333244  1.0  3.0  6.0   9.0  12.0   \n",
      "\n",
      "        order_purchase_day                                                   \\\n",
      "                     count       mean       std  min  25%   50%   75%   max   \n",
      "cluster                                                                       \n",
      "0                   7318.0  16.063132  8.789622  1.0  8.0  16.0  24.0  31.0   \n",
      "1                   8759.0  15.359173  8.559212  1.0  8.0  16.0  22.0  31.0   \n",
      "2                   2777.0  15.442204  8.654241  1.0  8.0  15.0  23.0  31.0   \n",
      "3                    413.0  15.016949  8.934074  1.0  7.0  15.0  22.0  31.0   \n",
      "4                    733.0  16.259209  8.402344  1.0  9.0  17.0  23.0  31.0   \n",
      "\n",
      "        order_purchase_hour                                                    \n",
      "                      count       mean       std  min   25%   50%   75%   max  \n",
      "cluster                                                                        \n",
      "0                    7318.0  14.833698  5.481174  0.0  11.0  15.0  19.0  23.0  \n",
      "1                    8759.0  14.700080  5.316035  0.0  11.0  15.0  19.0  23.0  \n",
      "2                    2777.0  15.154123  5.487608  0.0  12.0  16.0  20.0  23.0  \n",
      "3                     413.0  14.346247  4.986264  0.0  11.0  14.0  18.0  23.0  \n",
      "4                     733.0  14.076398  5.036170  0.0  11.0  14.0  18.0  23.0  \n"
     ]
    }
   ],
   "source": [
    "print(sample_summary)"
   ]
  },
  {
   "cell_type": "code",
   "execution_count": 31,
   "id": "9166422e",
   "metadata": {
    "execution": {
     "iopub.execute_input": "2025-05-07T08:20:28.598870Z",
     "iopub.status.busy": "2025-05-07T08:20:28.598562Z",
     "iopub.status.idle": "2025-05-07T08:20:28.611332Z",
     "shell.execute_reply": "2025-05-07T08:20:28.610544Z"
    },
    "papermill": {
     "duration": 0.026055,
     "end_time": "2025-05-07T08:20:28.612934",
     "exception": false,
     "start_time": "2025-05-07T08:20:28.586879",
     "status": "completed"
    },
    "tags": []
   },
   "outputs": [],
   "source": [
    "numeric_cols = sample_df.select_dtypes(include='number').columns\n",
    "sample_summary2 = sample_df[numeric_cols].groupby('cluster').mean()"
   ]
  },
  {
   "cell_type": "markdown",
   "id": "a5032d70",
   "metadata": {
    "papermill": {
     "duration": 0.01032,
     "end_time": "2025-05-07T08:20:28.634202",
     "exception": false,
     "start_time": "2025-05-07T08:20:28.623882",
     "status": "completed"
    },
    "tags": []
   },
   "source": [
    "Plotting them together is a bad idea since vary in scale\n",
    "### Plotting them by important features gives the neseccary information on the clusters"
   ]
  },
  {
   "cell_type": "code",
   "execution_count": 32,
   "id": "ccb6bc3d",
   "metadata": {
    "execution": {
     "iopub.execute_input": "2025-05-07T08:20:28.656892Z",
     "iopub.status.busy": "2025-05-07T08:20:28.656574Z",
     "iopub.status.idle": "2025-05-07T08:20:28.926930Z",
     "shell.execute_reply": "2025-05-07T08:20:28.926042Z"
    },
    "papermill": {
     "duration": 0.283683,
     "end_time": "2025-05-07T08:20:28.928412",
     "exception": false,
     "start_time": "2025-05-07T08:20:28.644729",
     "status": "completed"
    },
    "tags": []
   },
   "outputs": [
    {
     "name": "stderr",
     "output_type": "stream",
     "text": [
      "/tmp/ipykernel_13/2251687305.py:1: MatplotlibDeprecationWarning: The seaborn styles shipped by Matplotlib are deprecated since 3.6, as they no longer correspond to the styles shipped by seaborn. However, they will remain available as 'seaborn-v0_8-<style>'. Alternatively, directly use the seaborn API instead.\n",
      "  plt.style.use('seaborn')\n"
     ]
    },
    {
     "data": {
      "image/png": "[encoded data removed]",
      "text/plain": [
       "<Figure size 1000x600 with 1 Axes>"
      ]
     },
     "metadata": {},
     "output_type": "display_data"
    }
   ],
   "source": [
    "plt.style.use('seaborn')\n",
    "sample_summary2[['price', 'payment_value', 'freight_value']].plot(kind='bar', figsize=(10,6))\n",
    "plt.title(\"Cluster Profiles by Spending\")\n",
    "plt.ylabel(\"Mean Value\")\n",
    "plt.xticks(rotation=0)\n",
    "plt.show()"
   ]
  },
  {
   "cell_type": "markdown",
   "id": "d55249d8",
   "metadata": {
    "papermill": {
     "duration": 0.010817,
     "end_time": "2025-05-07T08:20:28.950517",
     "exception": false,
     "start_time": "2025-05-07T08:20:28.939700",
     "status": "completed"
    },
    "tags": []
   },
   "source": [
    "### We can see that cluster 3 customers buy costly products and cluster 4 buy selected products in Bulk. Hence we can categorise cluster 3 as luxury buyers and 4 as bulk buyers"
   ]
  },
  {
   "cell_type": "markdown",
   "id": "8bd74c47",
   "metadata": {
    "papermill": {
     "duration": 0.010631,
     "end_time": "2025-05-07T08:20:28.972145",
     "exception": false,
     "start_time": "2025-05-07T08:20:28.961514",
     "status": "completed"
    },
    "tags": []
   },
   "source": [
    "### Also cluster 2, though have bought similar priced items as cluster 0 or 1, they prefer to pay in installments. Hence we categorize them as Installment Buyers. And then we can but cluster 0 and 1 as bargain buyers and causal buyers respectively (Both are almost similar)"
   ]
  },
  {
   "cell_type": "code",
   "execution_count": 33,
   "id": "eb5fe756",
   "metadata": {
    "execution": {
     "iopub.execute_input": "2025-05-07T08:20:28.995181Z",
     "iopub.status.busy": "2025-05-07T08:20:28.994875Z",
     "iopub.status.idle": "2025-05-07T08:20:29.183784Z",
     "shell.execute_reply": "2025-05-07T08:20:29.182863Z"
    },
    "papermill": {
     "duration": 0.202082,
     "end_time": "2025-05-07T08:20:29.185101",
     "exception": false,
     "start_time": "2025-05-07T08:20:28.983019",
     "status": "completed"
    },
    "tags": []
   },
   "outputs": [
    {
     "data": {
      "image/png": "[encoded data removed]",
      "text/plain": [
       "<Figure size 1000x600 with 1 Axes>"
      ]
     },
     "metadata": {},
     "output_type": "display_data"
    }
   ],
   "source": [
    "sample_summary2[['payment_installments']].plot(kind='bar', figsize=(10,6))\n",
    "plt.title(\"Cluster Profiles by payment Installments\")\n",
    "plt.ylabel(\"Mean Value\")\n",
    "plt.xticks(rotation=0)\n",
    "plt.show()"
   ]
  },
  {
   "cell_type": "markdown",
   "id": "3ed98512",
   "metadata": {
    "papermill": {
     "duration": 0.011987,
     "end_time": "2025-05-07T08:20:29.208883",
     "exception": false,
     "start_time": "2025-05-07T08:20:29.196896",
     "status": "completed"
    },
    "tags": []
   },
   "source": [
    "### Labeling the customers accordingly"
   ]
  },
  {
   "cell_type": "code",
   "execution_count": 34,
   "id": "e3866622",
   "metadata": {
    "execution": {
     "iopub.execute_input": "2025-05-07T08:20:29.234827Z",
     "iopub.status.busy": "2025-05-07T08:20:29.234079Z",
     "iopub.status.idle": "2025-05-07T08:20:29.238356Z",
     "shell.execute_reply": "2025-05-07T08:20:29.237687Z"
    },
    "papermill": {
     "duration": 0.018589,
     "end_time": "2025-05-07T08:20:29.239642",
     "exception": false,
     "start_time": "2025-05-07T08:20:29.221053",
     "status": "completed"
    },
    "tags": []
   },
   "outputs": [],
   "source": [
    "label_map = {\n",
    "    0: 'Bargain Buyers',\n",
    "    1: 'Casual Buyers',\n",
    "    2: 'Installment Shoppers',\n",
    "    3: 'Luxury Buyers',\n",
    "    4: 'Bulk Buyers'\n",
    "}"
   ]
  },
  {
   "cell_type": "code",
   "execution_count": 35,
   "id": "f1974070",
   "metadata": {
    "execution": {
     "iopub.execute_input": "2025-05-07T08:20:29.265834Z",
     "iopub.status.busy": "2025-05-07T08:20:29.265549Z",
     "iopub.status.idle": "2025-05-07T08:20:29.273519Z",
     "shell.execute_reply": "2025-05-07T08:20:29.272806Z"
    },
    "papermill": {
     "duration": 0.022848,
     "end_time": "2025-05-07T08:20:29.274990",
     "exception": false,
     "start_time": "2025-05-07T08:20:29.252142",
     "status": "completed"
    },
    "tags": []
   },
   "outputs": [],
   "source": [
    "df['segment'] = df['cluster'].map(label_map)"
   ]
  },
  {
   "cell_type": "code",
   "execution_count": 36,
   "id": "923b0859",
   "metadata": {
    "execution": {
     "iopub.execute_input": "2025-05-07T08:20:29.300856Z",
     "iopub.status.busy": "2025-05-07T08:20:29.300571Z",
     "iopub.status.idle": "2025-05-07T08:20:29.315216Z",
     "shell.execute_reply": "2025-05-07T08:20:29.314427Z"
    },
    "papermill": {
     "duration": 0.029218,
     "end_time": "2025-05-07T08:20:29.316581",
     "exception": false,
     "start_time": "2025-05-07T08:20:29.287363",
     "status": "completed"
    },
    "tags": []
   },
   "outputs": [
    {
     "data": {
      "text/html": [
       "<div>\n",
       "<style scoped>\n",
       "    .dataframe tbody tr th:only-of-type {\n",
       "        vertical-align: middle;\n",
       "    }\n",
       "\n",
       "    .dataframe tbody tr th {\n",
       "        vertical-align: top;\n",
       "    }\n",
       "\n",
       "    .dataframe thead th {\n",
       "        text-align: right;\n",
       "    }\n",
       "</style>\n",
       "<table border=\"1\" class=\"dataframe\">\n",
       "  <thead>\n",
       "    <tr style=\"text-align: right;\">\n",
       "      <th></th>\n",
       "      <th>order_status</th>\n",
       "      <th>customer_state</th>\n",
       "      <th>order_item_id</th>\n",
       "      <th>price</th>\n",
       "      <th>freight_value</th>\n",
       "      <th>payment_sequential</th>\n",
       "      <th>payment_type</th>\n",
       "      <th>payment_installments</th>\n",
       "      <th>payment_value</th>\n",
       "      <th>order_purchase_year</th>\n",
       "      <th>order_purchase_month</th>\n",
       "      <th>order_purchase_day</th>\n",
       "      <th>order_purchase_hour</th>\n",
       "      <th>cluster</th>\n",
       "      <th>segment</th>\n",
       "    </tr>\n",
       "  </thead>\n",
       "  <tbody>\n",
       "    <tr>\n",
       "      <th>0</th>\n",
       "      <td>delivered</td>\n",
       "      <td>SP</td>\n",
       "      <td>1</td>\n",
       "      <td>29.99</td>\n",
       "      <td>8.72</td>\n",
       "      <td>1</td>\n",
       "      <td>credit_card</td>\n",
       "      <td>1</td>\n",
       "      <td>18.12</td>\n",
       "      <td>2017</td>\n",
       "      <td>10</td>\n",
       "      <td>2</td>\n",
       "      <td>10</td>\n",
       "      <td>0</td>\n",
       "      <td>Bargain Buyers</td>\n",
       "    </tr>\n",
       "    <tr>\n",
       "      <th>1</th>\n",
       "      <td>delivered</td>\n",
       "      <td>SP</td>\n",
       "      <td>1</td>\n",
       "      <td>29.99</td>\n",
       "      <td>8.72</td>\n",
       "      <td>3</td>\n",
       "      <td>voucher</td>\n",
       "      <td>1</td>\n",
       "      <td>2.00</td>\n",
       "      <td>2017</td>\n",
       "      <td>10</td>\n",
       "      <td>2</td>\n",
       "      <td>10</td>\n",
       "      <td>0</td>\n",
       "      <td>Bargain Buyers</td>\n",
       "    </tr>\n",
       "    <tr>\n",
       "      <th>2</th>\n",
       "      <td>delivered</td>\n",
       "      <td>SP</td>\n",
       "      <td>1</td>\n",
       "      <td>29.99</td>\n",
       "      <td>8.72</td>\n",
       "      <td>2</td>\n",
       "      <td>voucher</td>\n",
       "      <td>1</td>\n",
       "      <td>18.59</td>\n",
       "      <td>2017</td>\n",
       "      <td>10</td>\n",
       "      <td>2</td>\n",
       "      <td>10</td>\n",
       "      <td>0</td>\n",
       "      <td>Bargain Buyers</td>\n",
       "    </tr>\n",
       "    <tr>\n",
       "      <th>3</th>\n",
       "      <td>delivered</td>\n",
       "      <td>BA</td>\n",
       "      <td>1</td>\n",
       "      <td>118.70</td>\n",
       "      <td>22.76</td>\n",
       "      <td>1</td>\n",
       "      <td>boleto</td>\n",
       "      <td>1</td>\n",
       "      <td>141.46</td>\n",
       "      <td>2018</td>\n",
       "      <td>7</td>\n",
       "      <td>24</td>\n",
       "      <td>20</td>\n",
       "      <td>1</td>\n",
       "      <td>Casual Buyers</td>\n",
       "    </tr>\n",
       "    <tr>\n",
       "      <th>4</th>\n",
       "      <td>delivered</td>\n",
       "      <td>GO</td>\n",
       "      <td>1</td>\n",
       "      <td>159.90</td>\n",
       "      <td>19.22</td>\n",
       "      <td>1</td>\n",
       "      <td>credit_card</td>\n",
       "      <td>3</td>\n",
       "      <td>179.12</td>\n",
       "      <td>2018</td>\n",
       "      <td>8</td>\n",
       "      <td>8</td>\n",
       "      <td>8</td>\n",
       "      <td>1</td>\n",
       "      <td>Casual Buyers</td>\n",
       "    </tr>\n",
       "    <tr>\n",
       "      <th>5</th>\n",
       "      <td>delivered</td>\n",
       "      <td>RN</td>\n",
       "      <td>1</td>\n",
       "      <td>45.00</td>\n",
       "      <td>27.20</td>\n",
       "      <td>1</td>\n",
       "      <td>credit_card</td>\n",
       "      <td>1</td>\n",
       "      <td>72.20</td>\n",
       "      <td>2017</td>\n",
       "      <td>11</td>\n",
       "      <td>18</td>\n",
       "      <td>19</td>\n",
       "      <td>0</td>\n",
       "      <td>Bargain Buyers</td>\n",
       "    </tr>\n",
       "    <tr>\n",
       "      <th>6</th>\n",
       "      <td>delivered</td>\n",
       "      <td>SP</td>\n",
       "      <td>1</td>\n",
       "      <td>19.90</td>\n",
       "      <td>8.72</td>\n",
       "      <td>1</td>\n",
       "      <td>credit_card</td>\n",
       "      <td>1</td>\n",
       "      <td>28.62</td>\n",
       "      <td>2018</td>\n",
       "      <td>2</td>\n",
       "      <td>13</td>\n",
       "      <td>21</td>\n",
       "      <td>1</td>\n",
       "      <td>Casual Buyers</td>\n",
       "    </tr>\n",
       "    <tr>\n",
       "      <th>7</th>\n",
       "      <td>delivered</td>\n",
       "      <td>PR</td>\n",
       "      <td>1</td>\n",
       "      <td>147.90</td>\n",
       "      <td>27.36</td>\n",
       "      <td>1</td>\n",
       "      <td>credit_card</td>\n",
       "      <td>6</td>\n",
       "      <td>175.26</td>\n",
       "      <td>2017</td>\n",
       "      <td>7</td>\n",
       "      <td>9</td>\n",
       "      <td>21</td>\n",
       "      <td>2</td>\n",
       "      <td>Installment Shoppers</td>\n",
       "    </tr>\n",
       "    <tr>\n",
       "      <th>8</th>\n",
       "      <td>invoiced</td>\n",
       "      <td>RS</td>\n",
       "      <td>1</td>\n",
       "      <td>49.90</td>\n",
       "      <td>16.05</td>\n",
       "      <td>1</td>\n",
       "      <td>credit_card</td>\n",
       "      <td>1</td>\n",
       "      <td>65.95</td>\n",
       "      <td>2017</td>\n",
       "      <td>4</td>\n",
       "      <td>11</td>\n",
       "      <td>12</td>\n",
       "      <td>0</td>\n",
       "      <td>Bargain Buyers</td>\n",
       "    </tr>\n",
       "    <tr>\n",
       "      <th>9</th>\n",
       "      <td>delivered</td>\n",
       "      <td>RJ</td>\n",
       "      <td>1</td>\n",
       "      <td>59.99</td>\n",
       "      <td>15.17</td>\n",
       "      <td>1</td>\n",
       "      <td>credit_card</td>\n",
       "      <td>3</td>\n",
       "      <td>75.16</td>\n",
       "      <td>2017</td>\n",
       "      <td>5</td>\n",
       "      <td>16</td>\n",
       "      <td>13</td>\n",
       "      <td>0</td>\n",
       "      <td>Bargain Buyers</td>\n",
       "    </tr>\n",
       "  </tbody>\n",
       "</table>\n",
       "</div>"
      ],
      "text/plain": [
       "  order_status customer_state  order_item_id   price  freight_value  \\\n",
       "0    delivered             SP              1   29.99           8.72   \n",
       "1    delivered             SP              1   29.99           8.72   \n",
       "2    delivered             SP              1   29.99           8.72   \n",
       "3    delivered             BA              1  118.70          22.76   \n",
       "4    delivered             GO              1  159.90          19.22   \n",
       "5    delivered             RN              1   45.00          27.20   \n",
       "6    delivered             SP              1   19.90           8.72   \n",
       "7    delivered             PR              1  147.90          27.36   \n",
       "8     invoiced             RS              1   49.90          16.05   \n",
       "9    delivered             RJ              1   59.99          15.17   \n",
       "\n",
       "   payment_sequential payment_type  payment_installments  payment_value  \\\n",
       "0                   1  credit_card                     1          18.12   \n",
       "1                   3      voucher                     1           2.00   \n",
       "2                   2      voucher                     1          18.59   \n",
       "3                   1       boleto                     1         141.46   \n",
       "4                   1  credit_card                     3         179.12   \n",
       "5                   1  credit_card                     1          72.20   \n",
       "6                   1  credit_card                     1          28.62   \n",
       "7                   1  credit_card                     6         175.26   \n",
       "8                   1  credit_card                     1          65.95   \n",
       "9                   1  credit_card                     3          75.16   \n",
       "\n",
       "   order_purchase_year  order_purchase_month  order_purchase_day  \\\n",
       "0                 2017                    10                   2   \n",
       "1                 2017                    10                   2   \n",
       "2                 2017                    10                   2   \n",
       "3                 2018                     7                  24   \n",
       "4                 2018                     8                   8   \n",
       "5                 2017                    11                  18   \n",
       "6                 2018                     2                  13   \n",
       "7                 2017                     7                   9   \n",
       "8                 2017                     4                  11   \n",
       "9                 2017                     5                  16   \n",
       "\n",
       "   order_purchase_hour  cluster               segment  \n",
       "0                   10        0        Bargain Buyers  \n",
       "1                   10        0        Bargain Buyers  \n",
       "2                   10        0        Bargain Buyers  \n",
       "3                   20        1         Casual Buyers  \n",
       "4                    8        1         Casual Buyers  \n",
       "5                   19        0        Bargain Buyers  \n",
       "6                   21        1         Casual Buyers  \n",
       "7                   21        2  Installment Shoppers  \n",
       "8                   12        0        Bargain Buyers  \n",
       "9                   13        0        Bargain Buyers  "
      ]
     },
     "execution_count": 36,
     "metadata": {},
     "output_type": "execute_result"
    }
   ],
   "source": [
    "df.head(10)"
   ]
  },
  {
   "cell_type": "code",
   "execution_count": null,
   "id": "6ad14ed8",
   "metadata": {
    "papermill": {
     "duration": 0.011748,
     "end_time": "2025-05-07T08:20:29.341108",
     "exception": false,
     "start_time": "2025-05-07T08:20:29.329360",
     "status": "completed"
    },
    "tags": []
   },
   "outputs": [],
   "source": []
  }
 ],
 "metadata": {
  "kaggle": {
   "accelerator": "none",
   "dataSources": [
    {
     "datasetId": 55151,
     "sourceId": 2669146,
     "sourceType": "datasetVersion"
    }
   ],
   "dockerImageVersionId": 31012,
   "isGpuEnabled": false,
   "isInternetEnabled": true,
   "language": "python",
   "sourceType": "notebook"
  },
  "kernelspec": {
   "display_name": "Python 3",
   "language": "python",
   "name": "python3"
  },
  "language_info": {
   "codemirror_mode": {
    "name": "ipython",
    "version": 3
   },
   "file_extension": ".py",
   "mimetype": "text/x-python",
   "name": "python",
   "nbconvert_exporter": "python",
   "pygments_lexer": "ipython3",
   "version": "3.11.11"
  },
  "papermill": {
   "default_parameters": {},
   "duration": 44.678215,
   "end_time": "2025-05-07T08:20:30.174222",
   "environment_variables": {},
   "exception": null,
   "input_path": "__notebook__.ipynb",
   "output_path": "__notebook__.ipynb",
   "parameters": {},
   "start_time": "2025-05-07T08:19:45.496007",
   "version": "2.6.0"
  }
 },
 "nbformat": 4,
 "nbformat_minor": 5
}
